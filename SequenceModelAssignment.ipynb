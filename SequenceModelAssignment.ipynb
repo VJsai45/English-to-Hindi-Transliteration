{
  "nbformat": 4,
  "nbformat_minor": 0,
  "metadata": {
    "colab": {
      "name": "SequenceModelAssignment.ipynb",
      "provenance": [],
      "collapsed_sections": [],
      "mount_file_id": "1iDVyR7lurx-fhjafveNqaABZar6lOdLO",
      "authorship_tag": "ABX9TyMU7tqTPm6SpKkhbiSyYE0J",
      "include_colab_link": true
    },
    "kernelspec": {
      "display_name": "Python 3",
      "name": "python3"
    },
    "language_info": {
      "name": "python"
    }
  },
  "cells": [
    {
      "cell_type": "markdown",
      "metadata": {
        "id": "view-in-github",
        "colab_type": "text"
      },
      "source": [
        "<a href=\"https://colab.research.google.com/github/VJsai45/English-to-Hindi-Transliteration/blob/main/SequenceModelAssignment.ipynb\" target=\"_parent\"><img src=\"https://colab.research.google.com/assets/colab-badge.svg\" alt=\"Open In Colab\"/></a>"
      ]
    },
    {
      "cell_type": "code",
      "metadata": {
        "id": "i_q9IbxD8Pyo"
      },
      "source": [
        "import numpy as np\n",
        "import tensorflow as tf\n",
        "from tensorflow import keras\n",
        "from numpy import array\n",
        "from numpy import argmax\n",
        "from numpy import array_equal\n",
        "from random import randint\n",
        "import pandas as pd\n"
      ],
      "execution_count": 1,
      "outputs": []
    },
    {
      "cell_type": "code",
      "metadata": {
        "id": "7tF34dq1SiBb"
      },
      "source": [
        "from tensorflow.keras.utils import to_categorical\n",
        "from tensorflow.keras.models import Model\n",
        "from tensorflow.keras.layers import Input\n",
        "from tensorflow.keras.layers import LSTM\n",
        "from tensorflow.keras.layers import Dense"
      ],
      "execution_count": 25,
      "outputs": []
    },
    {
      "cell_type": "code",
      "metadata": {
        "id": "OQEXfl4ccYEf"
      },
      "source": [
        "!wget https://storage.googleapis.com/gresearch/dakshina/dakshina_dataset_v1.0.tar\n",
        "# Download Dakshina dataset"
      ],
      "execution_count": null,
      "outputs": []
    },
    {
      "cell_type": "code",
      "metadata": {
        "id": "o1f0JVf74Qg6"
      },
      "source": [
        "!tar -xvf 'dakshina_dataset_v1.0.tar' -C '/content/drive/MyDrive/Deep Learning Data/Dakshina Dataset'\n",
        "# untar and store data"
      ],
      "execution_count": null,
      "outputs": []
    },
    {
      "cell_type": "code",
      "metadata": {
        "id": "nedRR6Ft6enS"
      },
      "source": [
        "all_hindi_eng_data = pd.read_csv('/content/drive/MyDrive/Deep Learning Data/Dakshina Dataset/dakshina_dataset_v1.0/hi/lexicons/hi.translit.sampled.train.tsv',names=['all'])\n",
        "# read data into dataframe"
      ],
      "execution_count": 26,
      "outputs": []
    },
    {
      "cell_type": "code",
      "metadata": {
        "colab": {
          "base_uri": "https://localhost:8080/",
          "height": 415
        },
        "id": "dJmrE8tU9p8R",
        "outputId": "594550ef-d2b6-48af-f1a1-76504eb9fb62"
      },
      "source": [
        "all_hindi_eng_data"
      ],
      "execution_count": 27,
      "outputs": [
        {
          "output_type": "execute_result",
          "data": {
            "text/html": [
              "<div>\n",
              "<style scoped>\n",
              "    .dataframe tbody tr th:only-of-type {\n",
              "        vertical-align: middle;\n",
              "    }\n",
              "\n",
              "    .dataframe tbody tr th {\n",
              "        vertical-align: top;\n",
              "    }\n",
              "\n",
              "    .dataframe thead th {\n",
              "        text-align: right;\n",
              "    }\n",
              "</style>\n",
              "<table border=\"1\" class=\"dataframe\">\n",
              "  <thead>\n",
              "    <tr style=\"text-align: right;\">\n",
              "      <th></th>\n",
              "      <th>all</th>\n",
              "    </tr>\n",
              "  </thead>\n",
              "  <tbody>\n",
              "    <tr>\n",
              "      <th>0</th>\n",
              "      <td>अं\\tan\\t3</td>\n",
              "    </tr>\n",
              "    <tr>\n",
              "      <th>1</th>\n",
              "      <td>अंकगणित\\tankganit\\t3</td>\n",
              "    </tr>\n",
              "    <tr>\n",
              "      <th>2</th>\n",
              "      <td>अंकल\\tuncle\\t4</td>\n",
              "    </tr>\n",
              "    <tr>\n",
              "      <th>3</th>\n",
              "      <td>अंकुर\\tankur\\t4</td>\n",
              "    </tr>\n",
              "    <tr>\n",
              "      <th>4</th>\n",
              "      <td>अंकुरण\\tankuran\\t3</td>\n",
              "    </tr>\n",
              "    <tr>\n",
              "      <th>...</th>\n",
              "      <td>...</td>\n",
              "    </tr>\n",
              "    <tr>\n",
              "      <th>44199</th>\n",
              "      <td>ह्वेनसांग\\thiuentsang\\t1</td>\n",
              "    </tr>\n",
              "    <tr>\n",
              "      <th>44200</th>\n",
              "      <td>ह्वेनसांग\\thsuantsang\\t1</td>\n",
              "    </tr>\n",
              "    <tr>\n",
              "      <th>44201</th>\n",
              "      <td>ह्वेनसांग\\thyensang\\t1</td>\n",
              "    </tr>\n",
              "    <tr>\n",
              "      <th>44202</th>\n",
              "      <td>ह्वेनसांग\\txuanzang\\t1</td>\n",
              "    </tr>\n",
              "    <tr>\n",
              "      <th>44203</th>\n",
              "      <td>ॐ\\tom\\t3</td>\n",
              "    </tr>\n",
              "  </tbody>\n",
              "</table>\n",
              "<p>44204 rows × 1 columns</p>\n",
              "</div>"
            ],
            "text/plain": [
              "                            all\n",
              "0                     अं\\tan\\t3\n",
              "1          अंकगणित\\tankganit\\t3\n",
              "2                अंकल\\tuncle\\t4\n",
              "3               अंकुर\\tankur\\t4\n",
              "4            अंकुरण\\tankuran\\t3\n",
              "...                         ...\n",
              "44199  ह्वेनसांग\\thiuentsang\\t1\n",
              "44200  ह्वेनसांग\\thsuantsang\\t1\n",
              "44201    ह्वेनसांग\\thyensang\\t1\n",
              "44202    ह्वेनसांग\\txuanzang\\t1\n",
              "44203                  ॐ\\tom\\t3\n",
              "\n",
              "[44204 rows x 1 columns]"
            ]
          },
          "metadata": {
            "tags": []
          },
          "execution_count": 27
        }
      ]
    },
    {
      "cell_type": "code",
      "metadata": {
        "id": "pFMK5bsk7BRJ"
      },
      "source": [
        "split_data = all_hindi_eng_data[\"all\"].str.split(\"\\t\",n=2,expand=True)\n",
        "# split the eng words, hindi words and length data"
      ],
      "execution_count": 28,
      "outputs": []
    },
    {
      "cell_type": "code",
      "metadata": {
        "colab": {
          "base_uri": "https://localhost:8080/"
        },
        "id": "zBKJtJMH_EMR",
        "outputId": "6e7892d6-00be-4e58-dd4c-adef373ea7a6"
      },
      "source": [
        "X_train_english = split_data[1]\n",
        "y_train_hindi = split_data[0]\n",
        "X_train_english, y_train_hindi\n",
        "# read them into series"
      ],
      "execution_count": 29,
      "outputs": [
        {
          "output_type": "execute_result",
          "data": {
            "text/plain": [
              "(0                an\n",
              " 1          ankganit\n",
              " 2             uncle\n",
              " 3             ankur\n",
              " 4           ankuran\n",
              "             ...    \n",
              " 44199    hiuentsang\n",
              " 44200    hsuantsang\n",
              " 44201      hyensang\n",
              " 44202      xuanzang\n",
              " 44203            om\n",
              " Name: 1, Length: 44204, dtype: object, 0               अं\n",
              " 1          अंकगणित\n",
              " 2             अंकल\n",
              " 3            अंकुर\n",
              " 4           अंकुरण\n",
              "            ...    \n",
              " 44199    ह्वेनसांग\n",
              " 44200    ह्वेनसांग\n",
              " 44201    ह्वेनसांग\n",
              " 44202    ह्वेनसांग\n",
              " 44203            ॐ\n",
              " Name: 0, Length: 44204, dtype: object)"
            ]
          },
          "metadata": {
            "tags": []
          },
          "execution_count": 29
        }
      ]
    },
    {
      "cell_type": "code",
      "metadata": {
        "colab": {
          "base_uri": "https://localhost:8080/"
        },
        "id": "OrnIErXiGjBG",
        "outputId": "17a3a1dc-1c2b-4cc4-ab03-41a8ebb6ff63"
      },
      "source": [
        "X_train_english_array = np.array(X_train_english)\n",
        "X_train_english_array\n",
        "y_train_hindi_array = np.array(y_train_hindi)\n",
        "y_train_hindi_array\n",
        "# convert to arrays"
      ],
      "execution_count": 30,
      "outputs": [
        {
          "output_type": "execute_result",
          "data": {
            "text/plain": [
              "array(['अं', 'अंकगणित', 'अंकल', ..., 'ह्वेनसांग', 'ह्वेनसांग', 'ॐ'],\n",
              "      dtype=object)"
            ]
          },
          "metadata": {
            "tags": []
          },
          "execution_count": 30
        }
      ]
    },
    {
      "cell_type": "code",
      "metadata": {
        "id": "7uUmRvinBLm4"
      },
      "source": [
        "X_train_english_chars = X_train_english.apply(lambda x: list(x)) "
      ],
      "execution_count": 31,
      "outputs": []
    },
    {
      "cell_type": "code",
      "metadata": {
        "id": "cDuPHXiKBZtW"
      },
      "source": [
        "y_train_hindi_chars = y_train_hindi.apply(lambda x: list(x))"
      ],
      "execution_count": 32,
      "outputs": []
    },
    {
      "cell_type": "code",
      "metadata": {
        "id": "aFyqlvFoiERb"
      },
      "source": [
        "input_words = X_train_english_array.copy()\n",
        "target_words = [y+'>' for y in y_train_hindi_array] # add start token in target words\n",
        "target_shifted_words = ['<'+y for y in y_train_hindi_array] # add end token in shifted target words(decoder input)\n"
      ],
      "execution_count": 33,
      "outputs": []
    },
    {
      "cell_type": "code",
      "metadata": {
        "id": "qohMBpNjBTvs"
      },
      "source": [
        "eng_chars = []\n",
        "for word in input_words:\n",
        "  for char in word:\n",
        "    if char not in eng_chars:\n",
        "      eng_chars.append(char)\n",
        "eng_chars = sorted(eng_chars)\n",
        "# create english characters dictionary"
      ],
      "execution_count": 34,
      "outputs": []
    },
    {
      "cell_type": "code",
      "metadata": {
        "id": "6GZ_fz_MIQ5v"
      },
      "source": [
        "hindi_chars = ['<']\n",
        "for word in target_words:\n",
        "  for char in word:\n",
        "    if char not in hindi_chars:\n",
        "      hindi_chars.append(char)\n",
        "hindi_chars = sorted(hindi_chars)\n",
        "# create hindi characters dictionary"
      ],
      "execution_count": 35,
      "outputs": []
    },
    {
      "cell_type": "code",
      "metadata": {
        "id": "pO85IHh1IaGF"
      },
      "source": [
        "no_of_encoder_tokens = len(eng_chars)\n",
        "no_of_decoder_tokens = len(hindi_chars)\n",
        "max_encoder_sequence_length = max([len(word) for word in input_words])\n",
        "max_decoder_sequence_length = max([len(word) for word in target_words])\n",
        "# calculate number of encoder/decoder token and max encoder/deocder word length"
      ],
      "execution_count": 36,
      "outputs": []
    },
    {
      "cell_type": "code",
      "metadata": {
        "id": "WaGa0aajNbFd"
      },
      "source": [
        "input_token_index = dict([(char, i) for i, char in enumerate(eng_chars)])\n",
        "target_token_index = dict([(char, i) for i, char in enumerate(hindi_chars)])\n",
        "# create input and target character dictionaries"
      ],
      "execution_count": 37,
      "outputs": []
    },
    {
      "cell_type": "code",
      "metadata": {
        "id": "tESzeYw4vnYH"
      },
      "source": [
        "reverse_input_token_index = dict([(i, char) for i, char in enumerate(eng_chars)])\n",
        "reverse_output_token_index = dict([(i, char) for i, char in enumerate(hindi_chars)])\n",
        "# create reverse input and target character dictionaries while decoding"
      ],
      "execution_count": 38,
      "outputs": []
    },
    {
      "cell_type": "code",
      "metadata": {
        "id": "fYOLL0nsj-Zj"
      },
      "source": [
        "encoder_input_data = np.zeros((len(input_words),max_encoder_sequence_length,no_of_encoder_tokens),dtype='float32')\n",
        "decoder_input_data = np.zeros((len(target_shifted_words),max_decoder_sequence_length,no_of_decoder_tokens),dtype='float32')\n",
        "decoder_output_data = np.zeros((len(target_words),max_decoder_sequence_length,no_of_decoder_tokens),dtype='float32')\n",
        "# create encoder/decoder input/data arrays"
      ],
      "execution_count": 39,
      "outputs": []
    },
    {
      "cell_type": "code",
      "metadata": {
        "colab": {
          "base_uri": "https://localhost:8080/"
        },
        "id": "YD1AR_SDngsa",
        "outputId": "551292e4-1d3e-47fe-ccf3-0ad56a9fbbc2"
      },
      "source": [
        "decoder_input_data.shape"
      ],
      "execution_count": 40,
      "outputs": [
        {
          "output_type": "execute_result",
          "data": {
            "text/plain": [
              "(44204, 20, 65)"
            ]
          },
          "metadata": {
            "tags": []
          },
          "execution_count": 40
        }
      ]
    },
    {
      "cell_type": "code",
      "metadata": {
        "id": "Bmz0N8G7lSbK"
      },
      "source": [
        "for i,(input_word,target_shifted_word,target_word) in enumerate(zip(input_words,target_shifted_words,target_words)):\n",
        "  for t,char in enumerate(input_word):\n",
        "    encoder_input_data[i,t,input_token_index[char]] = '1.0'\n",
        "  for t,char in enumerate(target_shifted_word):\n",
        "    decoder_input_data[i,t,target_token_index[char]] = '1.0'\n",
        "  for t,char in enumerate(target_word):\n",
        "    decoder_output_data[i,t,target_token_index[char]] = '1.0'\n",
        "\n",
        "# one hot encode the data and fill up the arrays"
      ],
      "execution_count": 41,
      "outputs": []
    },
    {
      "cell_type": "code",
      "metadata": {
        "id": "r7d6ZD1uGaPB"
      },
      "source": [
        "# returns train, inference_encoder and inference_decoder models\n",
        "def define_models(n_input, n_output, n_units):\n",
        "\t# define training encoder\n",
        "\tencoder_inputs = Input(shape=(None, n_input))\n",
        "\tencoder = LSTM(n_units, return_state=True)\n",
        "\tencoder_outputs, state_h, state_c = encoder(encoder_inputs)\n",
        "\tencoder_states = [state_h, state_c]\n",
        "\t# define training decoder\n",
        "\tdecoder_inputs = Input(shape=(None, n_output))\n",
        "\tdecoder_lstm = LSTM(n_units, return_sequences=True, return_state=True)\n",
        "\tdecoder_outputs, _, _ = decoder_lstm(decoder_inputs, initial_state=encoder_states)\n",
        "\tdecoder_dense = Dense(n_output, activation='softmax')\n",
        "\tdecoder_outputs = decoder_dense(decoder_outputs)\n",
        "\tmodel = Model([encoder_inputs, decoder_inputs], decoder_outputs)\n",
        "\t# define inference encoder\n",
        "\tencoder_model = Model(encoder_inputs, encoder_states)\n",
        "\t# define inference decoder\n",
        "\tdecoder_state_input_h = Input(shape=(n_units,))\n",
        "\tdecoder_state_input_c = Input(shape=(n_units,))\n",
        "\tdecoder_states_inputs = [decoder_state_input_h, decoder_state_input_c]\n",
        "\tdecoder_outputs, state_h, state_c = decoder_lstm(decoder_inputs, initial_state=decoder_states_inputs)\n",
        "\tdecoder_states = [state_h, state_c]\n",
        "\tdecoder_outputs = decoder_dense(decoder_outputs)\n",
        "\tdecoder_model = Model([decoder_inputs] + decoder_states_inputs, [decoder_outputs] + decoder_states)\n",
        "\t# return all models\n",
        "\treturn model, encoder_model, decoder_model\n"
      ],
      "execution_count": 42,
      "outputs": []
    },
    {
      "cell_type": "code",
      "metadata": {
        "id": "QaWAEQkTrHRI"
      },
      "source": [
        "latent_dimensions = 256"
      ],
      "execution_count": 43,
      "outputs": []
    },
    {
      "cell_type": "code",
      "metadata": {
        "id": "QObdeYZHpYcI"
      },
      "source": [
        "training_model, inference_encoder, inference_decoder = define_models(no_of_encoder_tokens, no_of_decoder_tokens, latent_dimensions)"
      ],
      "execution_count": 44,
      "outputs": []
    },
    {
      "cell_type": "code",
      "metadata": {
        "id": "fuhO-8nZxL9X"
      },
      "source": [
        "training_model.compile(optimizer='adam', loss='categorical_crossentropy', metrics=['accuracy'])"
      ],
      "execution_count": 45,
      "outputs": []
    },
    {
      "cell_type": "code",
      "metadata": {
        "id": "Yu5ElDvuriMm"
      },
      "source": [
        "def predict_word(input):\n",
        "  one_hot_input = np.zeros((1,max_encoder_sequence_length,no_of_encoder_tokens),dtype=\"float32\")\n",
        "  for i,char in enumerate(input):\n",
        "    one_hot_input[0,i,input_token_index[char]] = '1.0'\n",
        "  encoder_output_state = inference_encoder.predict(one_hot_input)\n",
        "  # encode the input\n",
        "  start_token = np.zeros((1,1,no_of_decoder_tokens),dtype=\"float32\")\n",
        "  # create the start token for decoder\n",
        "  start_token[0,0,target_token_index['<']] = '1.0'\n",
        "  decoded_word = \"\"\n",
        "  decoded_char = ''\n",
        "  decoder_states = encoder_output_state\n",
        "  decoder_input = start_token\n",
        "  count = 0\n",
        "  stop = False\n",
        "  while not stop:\n",
        "    # copy the encoder op state to decoder state\n",
        "    decoder_output,decoder_state_hidden,decoder_state_cell = inference_decoder.predict(\n",
        "       [decoder_input] + decoder_states \n",
        "    )\n",
        "    # pass the start token and states to decoder\n",
        "    decoded_char_index = np.argmax(decoder_output[0,-1,:])\n",
        "    decoded_char = reverse_output_token_index[decoded_char_index]\n",
        "    decoded_word += decoded_char\n",
        "    # deocde the char and append to the word\n",
        "    decoder_input = np.zeros((1,1,no_of_decoder_tokens),dtype=\"float32\")\n",
        "    decoder_input[0,0,target_token_index[decoded_char]] = '1.0'\n",
        "    # update the decoder input\n",
        "    decoder_states = [decoder_state_hidden,decoder_state_cell]\n",
        "    count = count + 1\n",
        "    if (decoded_char == '>' or count > 10):\n",
        "      stop = True\n",
        "    # update the decoder states\n",
        "  return decoded_word\n",
        "\n"
      ],
      "execution_count": 46,
      "outputs": []
    },
    {
      "cell_type": "code",
      "metadata": {
        "colab": {
          "base_uri": "https://localhost:8080/",
          "height": 35
        },
        "id": "L9kEo1rlw9eY",
        "outputId": "4ba48b5a-a655-421c-b503-6344d00cfdf0"
      },
      "source": [
        "predict_word('hello')"
      ],
      "execution_count": 47,
      "outputs": [
        {
          "output_type": "execute_result",
          "data": {
            "application/vnd.google.colaboratory.intrinsic+json": {
              "type": "string"
            },
            "text/plain": [
              "'गगओओणैइैववई'"
            ]
          },
          "metadata": {
            "tags": []
          },
          "execution_count": 47
        }
      ]
    },
    {
      "cell_type": "code",
      "metadata": {
        "colab": {
          "background_save": true,
          "base_uri": "https://localhost:8080/"
        },
        "id": "dbdnBuu34W2z",
        "outputId": "37817ef0-ac9b-48d9-dba6-c30427a82fd0"
      },
      "source": [
        "training_model.fit([encoder_input_data,decoder_input_data],decoder_output_data,\n",
        "    batch_size=64,\n",
        "    epochs=20,\n",
        "    validation_split=0.2,)"
      ],
      "execution_count": null,
      "outputs": [
        {
          "output_type": "stream",
          "text": [
            "Epoch 1/20\n",
            "102/553 [====>.........................] - ETA: 1:47 - loss: 1.2575 - accuracy: 0.0639"
          ],
          "name": "stdout"
        }
      ]
    },
    {
      "cell_type": "code",
      "metadata": {
        "id": "mhrfuI2W4WwU"
      },
      "source": [
        ""
      ],
      "execution_count": null,
      "outputs": []
    },
    {
      "cell_type": "markdown",
      "metadata": {
        "id": "eDdAYUT7pRV6"
      },
      "source": [
        "# Number Sequence Encoder Decoder\n"
      ]
    },
    {
      "cell_type": "code",
      "metadata": {
        "id": "OqxWxrzAyl8Q"
      },
      "source": [
        "# generate a sequence of random integers\n",
        "def generate_sequence(length, n_unique):\n",
        "\treturn [randint(1, n_unique-1) for _ in range(length)]"
      ],
      "execution_count": null,
      "outputs": []
    },
    {
      "cell_type": "code",
      "metadata": {
        "id": "kWlnuiTG-_vg"
      },
      "source": [
        "def predict_sequence(inferenceEncoder,inferenceDecoder,source_input,size_of_output,no_of_features):\n",
        "  # encode the source_input\n",
        "  state = inferenceEncoder.predict(source_input) # final state of encoder and initial state of decoder\n",
        "  # start of sequence input(<START> token)\n",
        "  target_seq = array([0.0 for _ in range(51)]).reshape(1, 1, 51)\n",
        "  output = list()\n",
        "  for t in range(size_of_output):\n",
        "    # pass the start of seq and  state of decoder to get deocder output and states\n",
        "    yDecoder,h,c = inferenceDecoder.predict([target_seq] + state)\n",
        "    # build the output\n",
        "    output.append(yDecoder[0,0,:])\n",
        "    # update the state with new decoder state\n",
        "    state = [h,c]\n",
        "    # update the target seq\n",
        "    target_seq = yDecoder\n",
        "  return array(output)"
      ],
      "execution_count": null,
      "outputs": []
    },
    {
      "cell_type": "code",
      "metadata": {
        "colab": {
          "base_uri": "https://localhost:8080/"
        },
        "id": "l_lapR4bMNS7",
        "outputId": "7fd22ce6-8c3c-47b7-c57a-5c57d63859ed"
      },
      "source": [
        "argmax(array([0,1,0.1,0.2,0.8]))"
      ],
      "execution_count": null,
      "outputs": [
        {
          "output_type": "execute_result",
          "data": {
            "text/plain": [
              "1"
            ]
          },
          "metadata": {
            "tags": []
          },
          "execution_count": 27
        }
      ]
    },
    {
      "cell_type": "code",
      "metadata": {
        "id": "WjRuGlWmN9Lq"
      },
      "source": [
        "# To decode the number series\n",
        "def one_hot_decode(encoded_seq):\n",
        "\treturn [argmax(vector) for vector in encoded_seq]\n"
      ],
      "execution_count": null,
      "outputs": []
    },
    {
      "cell_type": "code",
      "metadata": {
        "id": "8DemcWxiMOxu"
      },
      "source": [
        "# prepare data for the LSTM\n",
        "def get_dataset(n_in, n_out, cardinality, n_samples):\n",
        "\tX1, X2, y = list(), list(), list()\n",
        "\tfor _ in range(n_samples):\n",
        "\t\t# generate source sequence\n",
        "\t\tsource = generate_sequence(n_in, cardinality)\n",
        "\t\t# define padded target sequence\n",
        "\t\ttarget = source.copy()\n",
        "\t\ttarget.reverse()\n",
        "\t\t# create padded input target sequence\n",
        "\t\ttarget_in = [0] + target[:-1]\n",
        "\t\t# encode\n",
        "\t\tsrc_encoded = to_categorical([source], num_classes=cardinality).reshape(len(source),cardinality)\n",
        "\t\ttar_encoded = to_categorical([target], num_classes=cardinality).reshape(len(target),cardinality)\n",
        "\t\ttar2_encoded = to_categorical([target_in], num_classes=cardinality).reshape(len(target_in),cardinality)\n",
        "\t\t# store\n",
        "\t\tX1.append(src_encoded)\n",
        "\t\tX2.append(tar2_encoded)\n",
        "\t\ty.append(tar_encoded)\n",
        "\treturn array(X1), array(X2), array(y)"
      ],
      "execution_count": null,
      "outputs": []
    },
    {
      "cell_type": "code",
      "metadata": {
        "id": "Mjmx7nR9jPIa"
      },
      "source": [
        "# configure problem\n",
        "n_features = 50 + 1\n",
        "n_steps_in = 6\n",
        "n_steps_out = 6"
      ],
      "execution_count": null,
      "outputs": []
    },
    {
      "cell_type": "code",
      "metadata": {
        "id": "tMuuIipgje3B"
      },
      "source": [
        "# define model\n",
        "train, infenc, infdec = define_models(n_features, n_features, 256)\n",
        "train.compile(optimizer='adam', loss='categorical_crossentropy', metrics=['accuracy'])"
      ],
      "execution_count": null,
      "outputs": []
    },
    {
      "cell_type": "code",
      "metadata": {
        "id": "dvUU0ntqjh83"
      },
      "source": [
        "# generate training dataset\n",
        "X1, X2, y = get_dataset(n_steps_in, n_steps_out, n_features, 100000)\n",
        "\n"
      ],
      "execution_count": null,
      "outputs": []
    },
    {
      "cell_type": "code",
      "metadata": {
        "colab": {
          "base_uri": "https://localhost:8080/"
        },
        "id": "gR16Jzbrp0sq",
        "outputId": "071a0d25-1241-4aed-d891-2ab343d517a6"
      },
      "source": [
        "source = generate_sequence(10, 51)\n",
        "to_categorical([source], num_classes=51).reshape(10,51).shape\n"
      ],
      "execution_count": null,
      "outputs": [
        {
          "output_type": "execute_result",
          "data": {
            "text/plain": [
              "(10, 51)"
            ]
          },
          "metadata": {
            "tags": []
          },
          "execution_count": 34
        }
      ]
    },
    {
      "cell_type": "code",
      "metadata": {
        "colab": {
          "base_uri": "https://localhost:8080/"
        },
        "id": "0T2u7H98mrvR",
        "outputId": "4e68d808-5fd0-41af-bb2e-b522245f7118"
      },
      "source": [
        "# train model\n",
        "train.fit([X1, X2], y, epochs=1)"
      ],
      "execution_count": null,
      "outputs": [
        {
          "output_type": "stream",
          "text": [
            "3125/3125 [==============================] - 134s 43ms/step - loss: 0.0233 - accuracy: 0.9955\n"
          ],
          "name": "stdout"
        },
        {
          "output_type": "execute_result",
          "data": {
            "text/plain": [
              "<tensorflow.python.keras.callbacks.History at 0x7f5b1aae5810>"
            ]
          },
          "metadata": {
            "tags": []
          },
          "execution_count": 36
        }
      ]
    },
    {
      "cell_type": "code",
      "metadata": {
        "colab": {
          "base_uri": "https://localhost:8080/"
        },
        "id": "yZsoTrRCklP0",
        "outputId": "72f7cc31-b534-4ffd-c6a2-32413dc67af4"
      },
      "source": [
        "total, correct = 100, 0\n",
        "for _ in range(total):\n",
        "\tX1, X2, y = get_dataset(n_steps_in, n_steps_out, 51, 1)\n",
        "\ttarget = predict_sequence(infenc, infdec, X1, n_steps_out, 51)\n",
        "\tif array_equal(one_hot_decode(y[0]), one_hot_decode(target)):\n",
        "\t\tcorrect += 1\n",
        "print('Accuracy: %.2f%%' % (float(correct)/float(total)*100.0))"
      ],
      "execution_count": null,
      "outputs": [
        {
          "output_type": "stream",
          "text": [
            "Accuracy: 97.00%\n"
          ],
          "name": "stdout"
        }
      ]
    },
    {
      "cell_type": "code",
      "metadata": {
        "id": "VkaFGEhRsXHh"
      },
      "source": [
        "# spot check some examples\n",
        "for _ in range(10):\n",
        "\tX1, X2, y = get_dataset(n_steps_in, n_steps_out, n_features, 1)\n",
        "\ttarget = predict_sequence(infenc, infdec, X1, n_steps_out, n_features)\n",
        "\tprint('X=%s y=%s, yhat=%s' % (one_hot_decode(X1[0]), one_hot_decode(y[0]), one_hot_decode(target)))"
      ],
      "execution_count": null,
      "outputs": []
    },
    {
      "cell_type": "code",
      "metadata": {
        "id": "ke7eDmsPsxBD"
      },
      "source": [
        ""
      ],
      "execution_count": null,
      "outputs": []
    }
  ]
}
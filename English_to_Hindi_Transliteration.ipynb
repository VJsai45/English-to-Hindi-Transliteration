{
  "nbformat": 4,
  "nbformat_minor": 0,
  "metadata": {
    "colab": {
      "provenance": [],
      "collapsed_sections": [
        "vItVPubQvd3K",
        "eDdAYUT7pRV6"
      ],
      "mount_file_id": "1iDVyR7lurx-fhjafveNqaABZar6lOdLO",
      "authorship_tag": "ABX9TyPZCb2BH5c1ImIGz9Vr5Jf8",
      "include_colab_link": true
    },
    "kernelspec": {
      "display_name": "Python 3",
      "name": "python3"
    },
    "language_info": {
      "name": "python"
    },
    "accelerator": "GPU",
    "gpuClass": "standard"
  },
  "cells": [
    {
      "cell_type": "markdown",
      "metadata": {
        "id": "view-in-github",
        "colab_type": "text"
      },
      "source": [
        "<a href=\"https://colab.research.google.com/github/VJsai45/English-to-Hindi-Transliteration/blob/main/English_to_Hindi_Transliteration.ipynb\" target=\"_parent\"><img src=\"https://colab.research.google.com/assets/colab-badge.svg\" alt=\"Open In Colab\"/></a>"
      ]
    },
    {
      "cell_type": "markdown",
      "source": [
        "## Building Models"
      ],
      "metadata": {
        "id": "vItVPubQvd3K"
      }
    },
    {
      "cell_type": "code",
      "metadata": {
        "id": "i_q9IbxD8Pyo"
      },
      "source": [
        "import numpy as np\n",
        "import tensorflow as tf\n",
        "from tensorflow import keras\n",
        "from numpy import array\n",
        "from numpy import argmax\n",
        "from numpy import array_equal\n",
        "from random import randint\n",
        "import pandas as pd\n",
        "from IPython.display import clear_output\n",
        "import matplotlib.pyplot as plt\n"
      ],
      "execution_count": null,
      "outputs": []
    },
    {
      "cell_type": "code",
      "metadata": {
        "id": "7tF34dq1SiBb"
      },
      "source": [
        "from tensorflow.keras.utils import to_categorical\n",
        "from tensorflow.keras.models import Model\n",
        "from tensorflow.keras.layers import Input\n",
        "from tensorflow.keras.layers import LSTM\n",
        "from tensorflow.keras.layers import Dense\n",
        "from tensorflow.keras.layers import Dropout\n"
      ],
      "execution_count": null,
      "outputs": []
    },
    {
      "cell_type": "code",
      "metadata": {
        "id": "OQEXfl4ccYEf"
      },
      "source": [
        "# !wget https://storage.googleapis.com/gresearch/dakshina/dakshina_dataset_v1.0.tar\n",
        "# # Download Dakshina dataset"
      ],
      "execution_count": null,
      "outputs": []
    },
    {
      "cell_type": "code",
      "metadata": {
        "id": "o1f0JVf74Qg6"
      },
      "source": [
        "# !tar -xvf 'dakshina_dataset_v1.0.tar' -C '/content/drive/MyDrive/Quick Data/Dakshina Dataset'\n",
        "# # untar and store data"
      ],
      "execution_count": null,
      "outputs": []
    },
    {
      "cell_type": "code",
      "metadata": {
        "id": "nedRR6Ft6enS"
      },
      "source": [
        "all_hindi_eng_data = pd.read_csv('/content/drive/MyDrive/Quick Data/Dakshina Dataset/dakshina_dataset_v1.0/hi/lexicons/hi.translit.sampled.train.tsv',names=['all'])\n",
        "# read data into dataframe"
      ],
      "execution_count": null,
      "outputs": []
    },
    {
      "cell_type": "code",
      "metadata": {
        "id": "dJmrE8tU9p8R",
        "colab": {
          "base_uri": "https://localhost:8080/",
          "height": 483
        },
        "outputId": "91440b03-627d-40f7-d905-850626658601"
      },
      "source": [
        "all_hindi_eng_data"
      ],
      "execution_count": null,
      "outputs": [
        {
          "output_type": "execute_result",
          "data": {
            "text/plain": [
              "                            all\n",
              "0                     अं\\tan\\t3\n",
              "1          अंकगणित\\tankganit\\t3\n",
              "2                अंकल\\tuncle\\t4\n",
              "3               अंकुर\\tankur\\t4\n",
              "4            अंकुरण\\tankuran\\t3\n",
              "...                         ...\n",
              "44199  ह्वेनसांग\\thiuentsang\\t1\n",
              "44200  ह्वेनसांग\\thsuantsang\\t1\n",
              "44201    ह्वेनसांग\\thyensang\\t1\n",
              "44202    ह्वेनसांग\\txuanzang\\t1\n",
              "44203                  ॐ\\tom\\t3\n",
              "\n",
              "[44204 rows x 1 columns]"
            ],
            "text/html": [
              "\n",
              "  <div id=\"df-dbec3196-2e1a-4063-bfdd-339aa318b93e\">\n",
              "    <div class=\"colab-df-container\">\n",
              "      <div>\n",
              "<style scoped>\n",
              "    .dataframe tbody tr th:only-of-type {\n",
              "        vertical-align: middle;\n",
              "    }\n",
              "\n",
              "    .dataframe tbody tr th {\n",
              "        vertical-align: top;\n",
              "    }\n",
              "\n",
              "    .dataframe thead th {\n",
              "        text-align: right;\n",
              "    }\n",
              "</style>\n",
              "<table border=\"1\" class=\"dataframe\">\n",
              "  <thead>\n",
              "    <tr style=\"text-align: right;\">\n",
              "      <th></th>\n",
              "      <th>all</th>\n",
              "    </tr>\n",
              "  </thead>\n",
              "  <tbody>\n",
              "    <tr>\n",
              "      <th>0</th>\n",
              "      <td>अं\\tan\\t3</td>\n",
              "    </tr>\n",
              "    <tr>\n",
              "      <th>1</th>\n",
              "      <td>अंकगणित\\tankganit\\t3</td>\n",
              "    </tr>\n",
              "    <tr>\n",
              "      <th>2</th>\n",
              "      <td>अंकल\\tuncle\\t4</td>\n",
              "    </tr>\n",
              "    <tr>\n",
              "      <th>3</th>\n",
              "      <td>अंकुर\\tankur\\t4</td>\n",
              "    </tr>\n",
              "    <tr>\n",
              "      <th>4</th>\n",
              "      <td>अंकुरण\\tankuran\\t3</td>\n",
              "    </tr>\n",
              "    <tr>\n",
              "      <th>...</th>\n",
              "      <td>...</td>\n",
              "    </tr>\n",
              "    <tr>\n",
              "      <th>44199</th>\n",
              "      <td>ह्वेनसांग\\thiuentsang\\t1</td>\n",
              "    </tr>\n",
              "    <tr>\n",
              "      <th>44200</th>\n",
              "      <td>ह्वेनसांग\\thsuantsang\\t1</td>\n",
              "    </tr>\n",
              "    <tr>\n",
              "      <th>44201</th>\n",
              "      <td>ह्वेनसांग\\thyensang\\t1</td>\n",
              "    </tr>\n",
              "    <tr>\n",
              "      <th>44202</th>\n",
              "      <td>ह्वेनसांग\\txuanzang\\t1</td>\n",
              "    </tr>\n",
              "    <tr>\n",
              "      <th>44203</th>\n",
              "      <td>ॐ\\tom\\t3</td>\n",
              "    </tr>\n",
              "  </tbody>\n",
              "</table>\n",
              "<p>44204 rows × 1 columns</p>\n",
              "</div>\n",
              "      <button class=\"colab-df-convert\" onclick=\"convertToInteractive('df-dbec3196-2e1a-4063-bfdd-339aa318b93e')\"\n",
              "              title=\"Convert this dataframe to an interactive table.\"\n",
              "              style=\"display:none;\">\n",
              "        \n",
              "  <svg xmlns=\"http://www.w3.org/2000/svg\" height=\"24px\"viewBox=\"0 0 24 24\"\n",
              "       width=\"24px\">\n",
              "    <path d=\"M0 0h24v24H0V0z\" fill=\"none\"/>\n",
              "    <path d=\"M18.56 5.44l.94 2.06.94-2.06 2.06-.94-2.06-.94-.94-2.06-.94 2.06-2.06.94zm-11 1L8.5 8.5l.94-2.06 2.06-.94-2.06-.94L8.5 2.5l-.94 2.06-2.06.94zm10 10l.94 2.06.94-2.06 2.06-.94-2.06-.94-.94-2.06-.94 2.06-2.06.94z\"/><path d=\"M17.41 7.96l-1.37-1.37c-.4-.4-.92-.59-1.43-.59-.52 0-1.04.2-1.43.59L10.3 9.45l-7.72 7.72c-.78.78-.78 2.05 0 2.83L4 21.41c.39.39.9.59 1.41.59.51 0 1.02-.2 1.41-.59l7.78-7.78 2.81-2.81c.8-.78.8-2.07 0-2.86zM5.41 20L4 18.59l7.72-7.72 1.47 1.35L5.41 20z\"/>\n",
              "  </svg>\n",
              "      </button>\n",
              "      \n",
              "  <style>\n",
              "    .colab-df-container {\n",
              "      display:flex;\n",
              "      flex-wrap:wrap;\n",
              "      gap: 12px;\n",
              "    }\n",
              "\n",
              "    .colab-df-convert {\n",
              "      background-color: #E8F0FE;\n",
              "      border: none;\n",
              "      border-radius: 50%;\n",
              "      cursor: pointer;\n",
              "      display: none;\n",
              "      fill: #1967D2;\n",
              "      height: 32px;\n",
              "      padding: 0 0 0 0;\n",
              "      width: 32px;\n",
              "    }\n",
              "\n",
              "    .colab-df-convert:hover {\n",
              "      background-color: #E2EBFA;\n",
              "      box-shadow: 0px 1px 2px rgba(60, 64, 67, 0.3), 0px 1px 3px 1px rgba(60, 64, 67, 0.15);\n",
              "      fill: #174EA6;\n",
              "    }\n",
              "\n",
              "    [theme=dark] .colab-df-convert {\n",
              "      background-color: #3B4455;\n",
              "      fill: #D2E3FC;\n",
              "    }\n",
              "\n",
              "    [theme=dark] .colab-df-convert:hover {\n",
              "      background-color: #434B5C;\n",
              "      box-shadow: 0px 1px 3px 1px rgba(0, 0, 0, 0.15);\n",
              "      filter: drop-shadow(0px 1px 2px rgba(0, 0, 0, 0.3));\n",
              "      fill: #FFFFFF;\n",
              "    }\n",
              "  </style>\n",
              "\n",
              "      <script>\n",
              "        const buttonEl =\n",
              "          document.querySelector('#df-dbec3196-2e1a-4063-bfdd-339aa318b93e button.colab-df-convert');\n",
              "        buttonEl.style.display =\n",
              "          google.colab.kernel.accessAllowed ? 'block' : 'none';\n",
              "\n",
              "        async function convertToInteractive(key) {\n",
              "          const element = document.querySelector('#df-dbec3196-2e1a-4063-bfdd-339aa318b93e');\n",
              "          const dataTable =\n",
              "            await google.colab.kernel.invokeFunction('convertToInteractive',\n",
              "                                                     [key], {});\n",
              "          if (!dataTable) return;\n",
              "\n",
              "          const docLinkHtml = 'Like what you see? Visit the ' +\n",
              "            '<a target=\"_blank\" href=https://colab.research.google.com/notebooks/data_table.ipynb>data table notebook</a>'\n",
              "            + ' to learn more about interactive tables.';\n",
              "          element.innerHTML = '';\n",
              "          dataTable['output_type'] = 'display_data';\n",
              "          await google.colab.output.renderOutput(dataTable, element);\n",
              "          const docLink = document.createElement('div');\n",
              "          docLink.innerHTML = docLinkHtml;\n",
              "          element.appendChild(docLink);\n",
              "        }\n",
              "      </script>\n",
              "    </div>\n",
              "  </div>\n",
              "  "
            ]
          },
          "metadata": {},
          "execution_count": 6
        }
      ]
    },
    {
      "cell_type": "code",
      "metadata": {
        "id": "pFMK5bsk7BRJ",
        "colab": {
          "base_uri": "https://localhost:8080/",
          "height": 483
        },
        "outputId": "2c1c675a-f43d-49fe-d31c-4b4800829c59"
      },
      "source": [
        "split_data = all_hindi_eng_data[\"all\"].str.split(\"\\t\",n=2,expand=True)\n",
        "# split the eng words, hindi words and length data\n",
        "split_data"
      ],
      "execution_count": null,
      "outputs": [
        {
          "output_type": "execute_result",
          "data": {
            "text/plain": [
              "               0           1  2\n",
              "0             अं          an  3\n",
              "1        अंकगणित    ankganit  3\n",
              "2           अंकल       uncle  4\n",
              "3          अंकुर       ankur  4\n",
              "4         अंकुरण     ankuran  3\n",
              "...          ...         ... ..\n",
              "44199  ह्वेनसांग  hiuentsang  1\n",
              "44200  ह्वेनसांग  hsuantsang  1\n",
              "44201  ह्वेनसांग    hyensang  1\n",
              "44202  ह्वेनसांग    xuanzang  1\n",
              "44203          ॐ          om  3\n",
              "\n",
              "[44204 rows x 3 columns]"
            ],
            "text/html": [
              "\n",
              "  <div id=\"df-0b241d18-05a8-4111-b29f-1c3e0a24e30e\">\n",
              "    <div class=\"colab-df-container\">\n",
              "      <div>\n",
              "<style scoped>\n",
              "    .dataframe tbody tr th:only-of-type {\n",
              "        vertical-align: middle;\n",
              "    }\n",
              "\n",
              "    .dataframe tbody tr th {\n",
              "        vertical-align: top;\n",
              "    }\n",
              "\n",
              "    .dataframe thead th {\n",
              "        text-align: right;\n",
              "    }\n",
              "</style>\n",
              "<table border=\"1\" class=\"dataframe\">\n",
              "  <thead>\n",
              "    <tr style=\"text-align: right;\">\n",
              "      <th></th>\n",
              "      <th>0</th>\n",
              "      <th>1</th>\n",
              "      <th>2</th>\n",
              "    </tr>\n",
              "  </thead>\n",
              "  <tbody>\n",
              "    <tr>\n",
              "      <th>0</th>\n",
              "      <td>अं</td>\n",
              "      <td>an</td>\n",
              "      <td>3</td>\n",
              "    </tr>\n",
              "    <tr>\n",
              "      <th>1</th>\n",
              "      <td>अंकगणित</td>\n",
              "      <td>ankganit</td>\n",
              "      <td>3</td>\n",
              "    </tr>\n",
              "    <tr>\n",
              "      <th>2</th>\n",
              "      <td>अंकल</td>\n",
              "      <td>uncle</td>\n",
              "      <td>4</td>\n",
              "    </tr>\n",
              "    <tr>\n",
              "      <th>3</th>\n",
              "      <td>अंकुर</td>\n",
              "      <td>ankur</td>\n",
              "      <td>4</td>\n",
              "    </tr>\n",
              "    <tr>\n",
              "      <th>4</th>\n",
              "      <td>अंकुरण</td>\n",
              "      <td>ankuran</td>\n",
              "      <td>3</td>\n",
              "    </tr>\n",
              "    <tr>\n",
              "      <th>...</th>\n",
              "      <td>...</td>\n",
              "      <td>...</td>\n",
              "      <td>...</td>\n",
              "    </tr>\n",
              "    <tr>\n",
              "      <th>44199</th>\n",
              "      <td>ह्वेनसांग</td>\n",
              "      <td>hiuentsang</td>\n",
              "      <td>1</td>\n",
              "    </tr>\n",
              "    <tr>\n",
              "      <th>44200</th>\n",
              "      <td>ह्वेनसांग</td>\n",
              "      <td>hsuantsang</td>\n",
              "      <td>1</td>\n",
              "    </tr>\n",
              "    <tr>\n",
              "      <th>44201</th>\n",
              "      <td>ह्वेनसांग</td>\n",
              "      <td>hyensang</td>\n",
              "      <td>1</td>\n",
              "    </tr>\n",
              "    <tr>\n",
              "      <th>44202</th>\n",
              "      <td>ह्वेनसांग</td>\n",
              "      <td>xuanzang</td>\n",
              "      <td>1</td>\n",
              "    </tr>\n",
              "    <tr>\n",
              "      <th>44203</th>\n",
              "      <td>ॐ</td>\n",
              "      <td>om</td>\n",
              "      <td>3</td>\n",
              "    </tr>\n",
              "  </tbody>\n",
              "</table>\n",
              "<p>44204 rows × 3 columns</p>\n",
              "</div>\n",
              "      <button class=\"colab-df-convert\" onclick=\"convertToInteractive('df-0b241d18-05a8-4111-b29f-1c3e0a24e30e')\"\n",
              "              title=\"Convert this dataframe to an interactive table.\"\n",
              "              style=\"display:none;\">\n",
              "        \n",
              "  <svg xmlns=\"http://www.w3.org/2000/svg\" height=\"24px\"viewBox=\"0 0 24 24\"\n",
              "       width=\"24px\">\n",
              "    <path d=\"M0 0h24v24H0V0z\" fill=\"none\"/>\n",
              "    <path d=\"M18.56 5.44l.94 2.06.94-2.06 2.06-.94-2.06-.94-.94-2.06-.94 2.06-2.06.94zm-11 1L8.5 8.5l.94-2.06 2.06-.94-2.06-.94L8.5 2.5l-.94 2.06-2.06.94zm10 10l.94 2.06.94-2.06 2.06-.94-2.06-.94-.94-2.06-.94 2.06-2.06.94z\"/><path d=\"M17.41 7.96l-1.37-1.37c-.4-.4-.92-.59-1.43-.59-.52 0-1.04.2-1.43.59L10.3 9.45l-7.72 7.72c-.78.78-.78 2.05 0 2.83L4 21.41c.39.39.9.59 1.41.59.51 0 1.02-.2 1.41-.59l7.78-7.78 2.81-2.81c.8-.78.8-2.07 0-2.86zM5.41 20L4 18.59l7.72-7.72 1.47 1.35L5.41 20z\"/>\n",
              "  </svg>\n",
              "      </button>\n",
              "      \n",
              "  <style>\n",
              "    .colab-df-container {\n",
              "      display:flex;\n",
              "      flex-wrap:wrap;\n",
              "      gap: 12px;\n",
              "    }\n",
              "\n",
              "    .colab-df-convert {\n",
              "      background-color: #E8F0FE;\n",
              "      border: none;\n",
              "      border-radius: 50%;\n",
              "      cursor: pointer;\n",
              "      display: none;\n",
              "      fill: #1967D2;\n",
              "      height: 32px;\n",
              "      padding: 0 0 0 0;\n",
              "      width: 32px;\n",
              "    }\n",
              "\n",
              "    .colab-df-convert:hover {\n",
              "      background-color: #E2EBFA;\n",
              "      box-shadow: 0px 1px 2px rgba(60, 64, 67, 0.3), 0px 1px 3px 1px rgba(60, 64, 67, 0.15);\n",
              "      fill: #174EA6;\n",
              "    }\n",
              "\n",
              "    [theme=dark] .colab-df-convert {\n",
              "      background-color: #3B4455;\n",
              "      fill: #D2E3FC;\n",
              "    }\n",
              "\n",
              "    [theme=dark] .colab-df-convert:hover {\n",
              "      background-color: #434B5C;\n",
              "      box-shadow: 0px 1px 3px 1px rgba(0, 0, 0, 0.15);\n",
              "      filter: drop-shadow(0px 1px 2px rgba(0, 0, 0, 0.3));\n",
              "      fill: #FFFFFF;\n",
              "    }\n",
              "  </style>\n",
              "\n",
              "      <script>\n",
              "        const buttonEl =\n",
              "          document.querySelector('#df-0b241d18-05a8-4111-b29f-1c3e0a24e30e button.colab-df-convert');\n",
              "        buttonEl.style.display =\n",
              "          google.colab.kernel.accessAllowed ? 'block' : 'none';\n",
              "\n",
              "        async function convertToInteractive(key) {\n",
              "          const element = document.querySelector('#df-0b241d18-05a8-4111-b29f-1c3e0a24e30e');\n",
              "          const dataTable =\n",
              "            await google.colab.kernel.invokeFunction('convertToInteractive',\n",
              "                                                     [key], {});\n",
              "          if (!dataTable) return;\n",
              "\n",
              "          const docLinkHtml = 'Like what you see? Visit the ' +\n",
              "            '<a target=\"_blank\" href=https://colab.research.google.com/notebooks/data_table.ipynb>data table notebook</a>'\n",
              "            + ' to learn more about interactive tables.';\n",
              "          element.innerHTML = '';\n",
              "          dataTable['output_type'] = 'display_data';\n",
              "          await google.colab.output.renderOutput(dataTable, element);\n",
              "          const docLink = document.createElement('div');\n",
              "          docLink.innerHTML = docLinkHtml;\n",
              "          element.appendChild(docLink);\n",
              "        }\n",
              "      </script>\n",
              "    </div>\n",
              "  </div>\n",
              "  "
            ]
          },
          "metadata": {},
          "execution_count": 7
        }
      ]
    },
    {
      "cell_type": "code",
      "metadata": {
        "id": "zBKJtJMH_EMR",
        "colab": {
          "base_uri": "https://localhost:8080/"
        },
        "outputId": "70e60888-1d36-4e20-a90a-56f71c39577e"
      },
      "source": [
        "X_train_english = split_data[1]\n",
        "y_train_hindi = split_data[0]\n",
        "X_train_english, y_train_hindi\n",
        "# read them into series"
      ],
      "execution_count": null,
      "outputs": [
        {
          "output_type": "execute_result",
          "data": {
            "text/plain": [
              "(0                an\n",
              " 1          ankganit\n",
              " 2             uncle\n",
              " 3             ankur\n",
              " 4           ankuran\n",
              "             ...    \n",
              " 44199    hiuentsang\n",
              " 44200    hsuantsang\n",
              " 44201      hyensang\n",
              " 44202      xuanzang\n",
              " 44203            om\n",
              " Name: 1, Length: 44204, dtype: object, 0               अं\n",
              " 1          अंकगणित\n",
              " 2             अंकल\n",
              " 3            अंकुर\n",
              " 4           अंकुरण\n",
              "            ...    \n",
              " 44199    ह्वेनसांग\n",
              " 44200    ह्वेनसांग\n",
              " 44201    ह्वेनसांग\n",
              " 44202    ह्वेनसांग\n",
              " 44203            ॐ\n",
              " Name: 0, Length: 44204, dtype: object)"
            ]
          },
          "metadata": {},
          "execution_count": 8
        }
      ]
    },
    {
      "cell_type": "code",
      "metadata": {
        "id": "OrnIErXiGjBG",
        "colab": {
          "base_uri": "https://localhost:8080/"
        },
        "outputId": "555e5acb-4cdf-4186-e5ea-d7e59f144509"
      },
      "source": [
        "X_train_english_array = np.array(X_train_english)\n",
        "X_train_english_array\n",
        "y_train_hindi_array = np.array(y_train_hindi)\n",
        "y_train_hindi_array\n",
        "# convert to arrays"
      ],
      "execution_count": null,
      "outputs": [
        {
          "output_type": "execute_result",
          "data": {
            "text/plain": [
              "array(['अं', 'अंकगणित', 'अंकल', ..., 'ह्वेनसांग', 'ह्वेनसांग', 'ॐ'],\n",
              "      dtype=object)"
            ]
          },
          "metadata": {},
          "execution_count": 9
        }
      ]
    },
    {
      "cell_type": "code",
      "metadata": {
        "id": "7uUmRvinBLm4"
      },
      "source": [
        "X_train_english_chars = X_train_english.apply(lambda x: list(x)) "
      ],
      "execution_count": null,
      "outputs": []
    },
    {
      "cell_type": "code",
      "source": [
        "X_train_english_chars.head()"
      ],
      "metadata": {
        "id": "wSDsDnkX95XI",
        "colab": {
          "base_uri": "https://localhost:8080/"
        },
        "outputId": "c51b20c9-02db-4fee-a5c6-7cc84dfaa9bb"
      },
      "execution_count": null,
      "outputs": [
        {
          "output_type": "execute_result",
          "data": {
            "text/plain": [
              "0                      [a, n]\n",
              "1    [a, n, k, g, a, n, i, t]\n",
              "2             [u, n, c, l, e]\n",
              "3             [a, n, k, u, r]\n",
              "4       [a, n, k, u, r, a, n]\n",
              "Name: 1, dtype: object"
            ]
          },
          "metadata": {},
          "execution_count": 11
        }
      ]
    },
    {
      "cell_type": "code",
      "metadata": {
        "id": "cDuPHXiKBZtW"
      },
      "source": [
        "y_train_hindi_chars = y_train_hindi.apply(lambda x: list(x))"
      ],
      "execution_count": null,
      "outputs": []
    },
    {
      "cell_type": "code",
      "source": [
        "y_train_hindi_chars.head()"
      ],
      "metadata": {
        "colab": {
          "base_uri": "https://localhost:8080/"
        },
        "id": "i0KFbGeL-CkF",
        "outputId": "5aed2b86-4806-44a5-c05a-1359254f247a"
      },
      "execution_count": null,
      "outputs": [
        {
          "output_type": "execute_result",
          "data": {
            "text/plain": [
              "0                   [अ, ं]\n",
              "1    [अ, ं, क, ग, ण, ि, त]\n",
              "2             [अ, ं, क, ल]\n",
              "3          [अ, ं, क, ु, र]\n",
              "4       [अ, ं, क, ु, र, ण]\n",
              "Name: 0, dtype: object"
            ]
          },
          "metadata": {},
          "execution_count": 13
        }
      ]
    },
    {
      "cell_type": "code",
      "metadata": {
        "id": "aFyqlvFoiERb"
      },
      "source": [
        "input_words = X_train_english_array.copy()\n",
        "target_words = pd.Series([y+'>' for y in y_train_hindi_array]) # add start token in target words\n",
        "target_shifted_words = pd.Series(['<'+y for y in y_train_hindi_array]) # add end token in shifted target words(decoder input)\n"
      ],
      "execution_count": null,
      "outputs": []
    },
    {
      "cell_type": "code",
      "source": [
        "target_words.head()"
      ],
      "metadata": {
        "colab": {
          "base_uri": "https://localhost:8080/"
        },
        "id": "J7yOl-I7nUO-",
        "outputId": "0291c467-0e4f-4583-eab6-52c475b4d298"
      },
      "execution_count": null,
      "outputs": [
        {
          "output_type": "execute_result",
          "data": {
            "text/plain": [
              "0         अं>\n",
              "1    अंकगणित>\n",
              "2       अंकल>\n",
              "3      अंकुर>\n",
              "4     अंकुरण>\n",
              "dtype: object"
            ]
          },
          "metadata": {},
          "execution_count": 15
        }
      ]
    },
    {
      "cell_type": "code",
      "source": [
        "target_shifted_words.head()"
      ],
      "metadata": {
        "colab": {
          "base_uri": "https://localhost:8080/"
        },
        "id": "g0oNE3mqnWZM",
        "outputId": "e32654d6-afbc-4886-f3f7-1ecfc16211ec"
      },
      "execution_count": null,
      "outputs": [
        {
          "output_type": "execute_result",
          "data": {
            "text/plain": [
              "0         <अं\n",
              "1    <अंकगणित\n",
              "2       <अंकल\n",
              "3      <अंकुर\n",
              "4     <अंकुरण\n",
              "dtype: object"
            ]
          },
          "metadata": {},
          "execution_count": 16
        }
      ]
    },
    {
      "cell_type": "code",
      "metadata": {
        "id": "qohMBpNjBTvs"
      },
      "source": [
        "eng_chars = [\"\"]\n",
        "for word in input_words:\n",
        "  for char in word:\n",
        "    if char not in eng_chars:\n",
        "      eng_chars.append(char)\n",
        "eng_chars = sorted(eng_chars)\n",
        "# create english characters dictionary"
      ],
      "execution_count": null,
      "outputs": []
    },
    {
      "cell_type": "code",
      "metadata": {
        "id": "6GZ_fz_MIQ5v"
      },
      "source": [
        "hindi_chars = [\"\",'<','>']\n",
        "for word in target_words:\n",
        "  for char in word:\n",
        "    if char not in hindi_chars:\n",
        "      hindi_chars.append(char)\n",
        "hindi_chars = sorted(hindi_chars)\n",
        "# create hindi characters dictionary"
      ],
      "execution_count": null,
      "outputs": []
    },
    {
      "cell_type": "code",
      "metadata": {
        "id": "pO85IHh1IaGF"
      },
      "source": [
        "no_of_encoder_tokens = len(eng_chars)\n",
        "no_of_decoder_tokens = len(hindi_chars)\n",
        "max_encoder_sequence_length = max([len(word) for word in input_words])\n",
        "max_decoder_sequence_length = max([len(word) for word in target_words])\n",
        "# calculate number of encoder/decoder token and max encoder/deocder word length"
      ],
      "execution_count": null,
      "outputs": []
    },
    {
      "cell_type": "code",
      "source": [
        "no_of_encoder_tokens, no_of_decoder_tokens, max_encoder_sequence_length, max_decoder_sequence_length"
      ],
      "metadata": {
        "colab": {
          "base_uri": "https://localhost:8080/"
        },
        "id": "MU1hxPtO7Xk2",
        "outputId": "5030f485-d2ef-4e1c-930a-af405366fdaa"
      },
      "execution_count": null,
      "outputs": [
        {
          "output_type": "execute_result",
          "data": {
            "text/plain": [
              "(27, 66, 20, 20)"
            ]
          },
          "metadata": {},
          "execution_count": 20
        }
      ]
    },
    {
      "cell_type": "code",
      "metadata": {
        "id": "WaGa0aajNbFd"
      },
      "source": [
        "input_token_index = dict([(char, i) for i, char in enumerate(eng_chars)])\n",
        "target_token_index = dict([(char, i) for i, char in enumerate(hindi_chars)])\n",
        "# create input and target character dictionaries"
      ],
      "execution_count": null,
      "outputs": []
    },
    {
      "cell_type": "code",
      "metadata": {
        "id": "tESzeYw4vnYH"
      },
      "source": [
        "reverse_input_token_index = dict([(i, char) for i, char in enumerate(eng_chars)])\n",
        "reverse_output_token_index = dict([(i, char) for i, char in enumerate(hindi_chars)])\n",
        "# create reverse input and target character dictionaries while decoding"
      ],
      "execution_count": null,
      "outputs": []
    },
    {
      "cell_type": "code",
      "metadata": {
        "id": "fYOLL0nsj-Zj"
      },
      "source": [
        "encoder_input_data = np.zeros((len(input_words),max_encoder_sequence_length,no_of_encoder_tokens),dtype='float32')\n",
        "decoder_input_data = np.zeros((len(target_shifted_words),max_decoder_sequence_length,no_of_decoder_tokens),dtype='float32')\n",
        "decoder_output_data = np.zeros((len(target_words),max_decoder_sequence_length,no_of_decoder_tokens),dtype='float32')\n",
        "# create encoder/decoder input/data arrays"
      ],
      "execution_count": null,
      "outputs": []
    },
    {
      "cell_type": "code",
      "metadata": {
        "id": "YD1AR_SDngsa",
        "colab": {
          "base_uri": "https://localhost:8080/"
        },
        "outputId": "a3c39eb7-b2b1-4c0c-9d5b-11fc3ce17bb1"
      },
      "source": [
        "encoder_input_data.shape, decoder_input_data.shape, decoder_output_data.shape"
      ],
      "execution_count": null,
      "outputs": [
        {
          "output_type": "execute_result",
          "data": {
            "text/plain": [
              "((44204, 20, 27), (44204, 20, 66), (44204, 20, 66))"
            ]
          },
          "metadata": {},
          "execution_count": 24
        }
      ]
    },
    {
      "cell_type": "code",
      "metadata": {
        "id": "Bmz0N8G7lSbK"
      },
      "source": [
        "for i,(input_word,target_shifted_word,target_word) in enumerate(zip(input_words,target_shifted_words,target_words)):\n",
        "  for t,char in enumerate(input_word):\n",
        "    encoder_input_data[i,t,input_token_index[char]] = 1.0 \n",
        "  encoder_input_data[i,t+1:,input_token_index[\"\"]] = 1.0 # for padding remaing characters with empty space \" \"\n",
        "\n",
        "  for t,char in enumerate(target_shifted_word):\n",
        "    decoder_input_data[i,t,target_token_index[char]] = 1.0\n",
        "  decoder_input_data[i,t+1:,target_token_index[\"\"]] = 1.0 # for padding remaing characters with empty space \" \"\n",
        "\n",
        "  for t,char in enumerate(target_word):\n",
        "    decoder_output_data[i,t,target_token_index[char]] = 1.0\n",
        "  decoder_output_data[i,t+1:,target_token_index[\"\"]] = 1.0 # for padding remaing characters with empty space \" \"\n",
        "\n",
        "\n",
        "# one hot encode the data and fill up the arrays"
      ],
      "execution_count": null,
      "outputs": []
    },
    {
      "cell_type": "code",
      "source": [
        "word = ''\n",
        "for c in np.argmax(encoder_input_data[432,:,:], axis=1):\n",
        "  word+=reverse_input_token_index[c]\n",
        "word"
      ],
      "metadata": {
        "colab": {
          "base_uri": "https://localhost:8080/",
          "height": 244
        },
        "id": "QObvjtRwCoDN",
        "outputId": "0716f612-0722-4f4f-cb6e-dfde2a8b5394"
      },
      "execution_count": null,
      "outputs": [
        {
          "output_type": "execute_result",
          "data": {
            "text/plain": [
              "'ajnabiyon'"
            ],
            "application/vnd.google.colaboratory.intrinsic+json": {
              "type": "string"
            }
          },
          "metadata": {},
          "execution_count": 26
        }
      ]
    },
    {
      "cell_type": "code",
      "source": [
        "word = ''\n",
        "for c in np.argmax(decoder_input_data[432,:,:], axis=1):\n",
        "  word+=reverse_output_token_index[c]\n",
        "word"
      ],
      "metadata": {
        "colab": {
          "base_uri": "https://localhost:8080/",
          "height": 244
        },
        "id": "CGoagPBsFMcP",
        "outputId": "ef4f72f4-e4b3-496e-a280-94307fb7284a"
      },
      "execution_count": null,
      "outputs": [
        {
          "output_type": "execute_result",
          "data": {
            "text/plain": [
              "'<अजनबियों'"
            ],
            "application/vnd.google.colaboratory.intrinsic+json": {
              "type": "string"
            }
          },
          "metadata": {},
          "execution_count": 27
        }
      ]
    },
    {
      "cell_type": "code",
      "source": [
        "word = ''\n",
        "for c in np.argmax(decoder_output_data[432,:,:], axis=1):\n",
        "  word+=reverse_output_token_index[c]\n",
        "word"
      ],
      "metadata": {
        "colab": {
          "base_uri": "https://localhost:8080/",
          "height": 244
        },
        "id": "5-OKZwblax9h",
        "outputId": "ef094e24-ac9a-4057-accb-d312b5dd833f"
      },
      "execution_count": null,
      "outputs": [
        {
          "output_type": "execute_result",
          "data": {
            "text/plain": [
              "'अजनबियों>'"
            ],
            "application/vnd.google.colaboratory.intrinsic+json": {
              "type": "string"
            }
          },
          "metadata": {},
          "execution_count": 28
        }
      ]
    },
    {
      "cell_type": "code",
      "metadata": {
        "id": "r7d6ZD1uGaPB"
      },
      "source": [
        "# returns training model\n",
        "def define_models(n_input, n_output, n_units,no_of_layers):\n",
        "  # define training encoder\n",
        "  encoder_inputs = Input(shape=(None, n_input))\n",
        "  input_to_encoder = encoder_inputs\n",
        "  encoder_states = []\n",
        "\n",
        "  for l in range(no_of_layers):\n",
        "    if l == no_of_layers-1:\n",
        "      encoder = LSTM(n_units, return_sequences=False, return_state=True,name='encoder'+str(l+1))\n",
        "      _, state_h, state_c = encoder(input_to_encoder)\n",
        "    else:\n",
        "      encoder = LSTM(n_units, return_sequences=True, return_state=True,name='encoder'+str(l+1))\n",
        "      encoder_outputs, state_h, state_c = encoder(input_to_encoder)\n",
        "    encoder_states.extend([state_h, state_c])\n",
        "    input_to_encoder = [encoder_outputs] \n",
        "\n",
        "\t# define training decoder\n",
        "  decoder_inputs = Input(shape=(None, n_output))\n",
        "  input_to_decoder = decoder_inputs\n",
        "  decoder_states_initial = encoder_states\n",
        "  print(\"encoder states\", encoder_states)\n",
        "\n",
        "  for l in range(no_of_layers):\n",
        "    decoder_lstm = LSTM(n_units, return_sequences=True, return_state=True,name='deocder'+str(l+1))\n",
        "    decoder_outputs, decoder_state_h, decoder_state_c = decoder_lstm(input_to_decoder, initial_state=decoder_states_initial[(2*l):(2*l)+2])\n",
        "    input_to_decoder = decoder_outputs\n",
        "\n",
        "\n",
        "  decoder_dense = tf.keras.layers.TimeDistributed(Dense(n_output, activation='softmax', name='softmax'))\n",
        "  dropout_op = Dropout(0.5)(input_to_decoder)\n",
        "  decoder_outputs = decoder_dense(dropout_op)\n",
        "  model = Model([encoder_inputs, decoder_inputs], decoder_outputs)\n",
        "\n",
        "  return model\n"
      ],
      "execution_count": null,
      "outputs": []
    },
    {
      "cell_type": "code",
      "metadata": {
        "id": "QaWAEQkTrHRI"
      },
      "source": [
        "latent_dimensions = 1024"
      ],
      "execution_count": null,
      "outputs": []
    },
    {
      "cell_type": "code",
      "source": [
        "early_stopping = tf.keras.callbacks.EarlyStopping(patience=3, \n",
        "                                               restore_best_weights=False,\n",
        "                                                 monitor='val_loss')\n",
        "\n",
        "checkpoint_path = \"/content/drive/MyDrive/Quick Data/English Hindi Transliteration/cp-2-layer-{epoch:01d}-{val_accuracy:03f}.ckpt\"\n",
        "\n",
        "cp_callback = tf.keras.callbacks.ModelCheckpoint(filepath=checkpoint_path,\n",
        "                                                 save_weights_only=True,\n",
        "                                                 verbose=1)\n",
        "\n",
        "# Learning Rate Scheduler for the optimizer\n",
        "class LRSchedule(keras.optimizers.schedules.LearningRateSchedule):\n",
        "    def __init__(self, post_warmup_learning_rate, warmup_steps):\n",
        "        super().__init__()\n",
        "        self.post_warmup_learning_rate = post_warmup_learning_rate\n",
        "        self.warmup_steps = warmup_steps\n",
        "\n",
        "    def __call__(self, step):\n",
        "        global_step = tf.cast(step, tf.float32)\n",
        "        warmup_steps = tf.cast(self.warmup_steps, tf.float32)\n",
        "        warmup_progress = global_step / warmup_steps\n",
        "        warmup_learning_rate = self.post_warmup_learning_rate * warmup_progress\n",
        "        return tf.cond(\n",
        "            global_step < warmup_steps,\n",
        "            lambda: warmup_learning_rate,\n",
        "            lambda: self.post_warmup_learning_rate,\n",
        "        )\n",
        "\n",
        "\n",
        "# Create a learning rate schedule\n",
        "num_train_steps = len(encoder_input_data) * 30\n",
        "num_warmup_steps = num_train_steps // 15\n",
        "lr_schedule = LRSchedule(post_warmup_learning_rate=1e-4, warmup_steps=num_warmup_steps)\n",
        "\n",
        "\n",
        "class PlotLearning(keras.callbacks.Callback):\n",
        "    \"\"\"\n",
        "    Callback to plot the learning curves of the model during training.\n",
        "    \"\"\"\n",
        "    def on_train_begin(self, logs={}):\n",
        "        self.metrics = {}\n",
        "        for metric in logs:\n",
        "            self.metrics[metric] = []\n",
        "            \n",
        "\n",
        "    def on_epoch_end(self, epoch, logs={}):\n",
        "        # Storing metrics\n",
        "        for metric in logs:\n",
        "            if metric in self.metrics:\n",
        "                self.metrics[metric].append(logs.get(metric))\n",
        "            else:\n",
        "                self.metrics[metric] = [logs.get(metric)]\n",
        "        \n",
        "        # Plotting\n",
        "        metrics = [x for x in logs if 'val' not in x]\n",
        "        \n",
        "        f, axs = plt.subplots(1, len(metrics), figsize=(15,5))\n",
        "        clear_output(wait=True)\n",
        "\n",
        "        for i, metric in enumerate(metrics):\n",
        "            axs[i].plot(range(1, epoch + 2), \n",
        "                        self.metrics[metric], \n",
        "                        label=metric)\n",
        "            if logs['val_' + metric]:\n",
        "                axs[i].plot(range(1, epoch + 2), \n",
        "                            self.metrics['val_' + metric], \n",
        "                            label='val_' + metric)\n",
        "                \n",
        "            axs[i].legend()\n",
        "            axs[i].grid()\n",
        "\n",
        "        plt.tight_layout()\n",
        "        plt.show()\n"
      ],
      "metadata": {
        "id": "OYDaR-0ht83s"
      },
      "execution_count": null,
      "outputs": []
    },
    {
      "cell_type": "markdown",
      "source": [
        "## Running Models"
      ],
      "metadata": {
        "id": "PbbPaVIEvlah"
      }
    },
    {
      "cell_type": "code",
      "metadata": {
        "id": "QObdeYZHpYcI",
        "colab": {
          "base_uri": "https://localhost:8080/"
        },
        "outputId": "35316029-74a5-400d-c73e-2d33e6fb5d84"
      },
      "source": [
        "training_model = define_models(no_of_encoder_tokens, no_of_decoder_tokens, latent_dimensions, 2)"
      ],
      "execution_count": null,
      "outputs": [
        {
          "output_type": "stream",
          "name": "stdout",
          "text": [
            "encoder states [<KerasTensor: shape=(None, 1024) dtype=float32 (created by layer 'encoder1')>, <KerasTensor: shape=(None, 1024) dtype=float32 (created by layer 'encoder1')>, <KerasTensor: shape=(None, 1024) dtype=float32 (created by layer 'encoder2')>, <KerasTensor: shape=(None, 1024) dtype=float32 (created by layer 'encoder2')>]\n"
          ]
        }
      ]
    },
    {
      "cell_type": "code",
      "source": [
        "training_model.summary()"
      ],
      "metadata": {
        "colab": {
          "base_uri": "https://localhost:8080/"
        },
        "id": "oGXn-rwxVRnJ",
        "outputId": "7c4408a5-16f7-4598-a9aa-b5fdd1efe005"
      },
      "execution_count": null,
      "outputs": [
        {
          "output_type": "stream",
          "name": "stdout",
          "text": [
            "Model: \"model\"\n",
            "__________________________________________________________________________________________________\n",
            " Layer (type)                   Output Shape         Param #     Connected to                     \n",
            "==================================================================================================\n",
            " input_1 (InputLayer)           [(None, None, 27)]   0           []                               \n",
            "                                                                                                  \n",
            " input_2 (InputLayer)           [(None, None, 66)]   0           []                               \n",
            "                                                                                                  \n",
            " encoder1 (LSTM)                [(None, None, 1024)  4308992     ['input_1[0][0]']                \n",
            "                                , (None, 1024),                                                   \n",
            "                                 (None, 1024)]                                                    \n",
            "                                                                                                  \n",
            " deocder1 (LSTM)                [(None, None, 1024)  4468736     ['input_2[0][0]',                \n",
            "                                , (None, 1024),                   'encoder1[0][1]',               \n",
            "                                 (None, 1024)]                    'encoder1[0][2]']               \n",
            "                                                                                                  \n",
            " encoder2 (LSTM)                [(None, 1024),       8392704     ['encoder1[0][0]']               \n",
            "                                 (None, 1024),                                                    \n",
            "                                 (None, 1024)]                                                    \n",
            "                                                                                                  \n",
            " deocder2 (LSTM)                [(None, None, 1024)  8392704     ['deocder1[0][0]',               \n",
            "                                , (None, 1024),                   'encoder2[0][1]',               \n",
            "                                 (None, 1024)]                    'encoder2[0][2]']               \n",
            "                                                                                                  \n",
            " dropout (Dropout)              (None, None, 1024)   0           ['deocder2[0][0]']               \n",
            "                                                                                                  \n",
            " time_distributed (TimeDistribu  (None, None, 66)    67650       ['dropout[0][0]']                \n",
            " ted)                                                                                             \n",
            "                                                                                                  \n",
            "==================================================================================================\n",
            "Total params: 25,630,786\n",
            "Trainable params: 25,630,786\n",
            "Non-trainable params: 0\n",
            "__________________________________________________________________________________________________\n"
          ]
        }
      ]
    },
    {
      "cell_type": "code",
      "metadata": {
        "id": "fuhO-8nZxL9X"
      },
      "source": [
        "training_model.compile(tf.keras.optimizers.Adam(), loss='categorical_crossentropy', metrics=['accuracy'])"
      ],
      "execution_count": null,
      "outputs": []
    },
    {
      "cell_type": "code",
      "source": [
        "training_model.load_weights('/content/drive/MyDrive/Quick Data/English Hindi Transliteration/cp-2-layer-9-0.865886.ckpt')"
      ],
      "metadata": {
        "id": "6iuH2RNdvZHk",
        "colab": {
          "base_uri": "https://localhost:8080/"
        },
        "outputId": "da070506-dd70-45a5-a288-68c3a5fc8f75"
      },
      "execution_count": null,
      "outputs": [
        {
          "output_type": "execute_result",
          "data": {
            "text/plain": [
              "<tensorflow.python.checkpoint.checkpoint.CheckpointLoadStatus at 0x7f94285a8730>"
            ]
          },
          "metadata": {},
          "execution_count": 35
        }
      ]
    },
    {
      "cell_type": "code",
      "metadata": {
        "id": "dbdnBuu34W2z",
        "colab": {
          "base_uri": "https://localhost:8080/",
          "height": 405
        },
        "outputId": "765d2c48-6d0d-479e-97bb-8d8f1c351cec"
      },
      "source": [
        "  training_model.fit([encoder_input_data,decoder_input_data],decoder_output_data,\n",
        "    batch_size=64,\n",
        "    epochs=30,\n",
        "    validation_split=0.2,\n",
        "    callbacks=[cp_callback,PlotLearning(), early_stopping])"
      ],
      "execution_count": null,
      "outputs": [
        {
          "output_type": "display_data",
          "data": {
            "text/plain": [
              "<Figure size 1080x360 with 2 Axes>"
            ],
            "image/png": "[encoded data removed]"
          },
          "metadata": {
            "needs_background": "light"
          }
        },
        {
          "output_type": "stream",
          "name": "stdout",
          "text": [
            "\b\b\b\b\b\b\b\b\b\b\b\b\b\b\b\b\b\b\b\b\b\b\b\b\b\b\b\b\b\b\b\b\b\b\b\b\b\b\b\b\b\b\b\b\b\b\b\b\b\b\b\b\b\b\b\b\b\b\b\b\b\b\b\b\b\b\b\b\b\b\b\b\b\b\b\b\b\b\b\b\b\b\b\b\r553/553 [==============================] - 45s 81ms/step - loss: 0.0865 - accuracy: 0.9714 - val_loss: 0.5888 - val_accuracy: 0.8659\n"
          ]
        },
        {
          "output_type": "execute_result",
          "data": {
            "text/plain": [
              "<keras.callbacks.History at 0x7fee1a0f36d0>"
            ]
          },
          "metadata": {},
          "execution_count": 159
        }
      ]
    },
    {
      "cell_type": "code",
      "source": [
        "no_of_layers = 2"
      ],
      "metadata": {
        "id": "8CP1FJ5BKUDM"
      },
      "execution_count": null,
      "outputs": []
    },
    {
      "cell_type": "code",
      "source": [
        "encoder_inputs = training_model.input[0]\n",
        "encoder_states = [] \n",
        "for l in range(no_of_layers):\n",
        "  encoder_outputs, state_h, state_c = training_model.layers[((2*l)+2)].output\n",
        "  encoder_states+= [state_h, state_c]\n",
        "encoder_model = tf.keras.Model(encoder_inputs, [encoder_outputs,encoder_states])\n",
        "\n",
        "# define inference decoder\n",
        "decoder_inputs = training_model.input[1]  # input_2\n",
        "decoder_states_initial = []\n",
        "for l in range(no_of_layers):\n",
        "  decoder_state_input_h = Input(shape=(latent_dimensions,))\n",
        "  decoder_state_input_c = Input(shape=(latent_dimensions,))\n",
        "  decoder_states_initial.extend([decoder_state_input_h, decoder_state_input_c])\n",
        "\n",
        "decoder_inputs_infer = decoder_inputs\n",
        "decoder_states = []\n",
        "for l in range(no_of_layers):\n",
        "  decoder_outputs, state_h, state_c = training_model.layers[((2*l)+1)+2](decoder_inputs_infer, initial_state=decoder_states_initial[(2*l):(2*l)+2])\n",
        "  decoder_states.extend([state_h, state_c])\n",
        "  decoder_inputs_infer = decoder_outputs\n",
        "decoder_outputs = training_model.layers[((2*no_of_layers)+3)](decoder_outputs)\n",
        "decoder_model = Model([decoder_inputs] + decoder_states_initial, [decoder_outputs] + decoder_states)"
      ],
      "metadata": {
        "id": "C8Zy2A2m08jz"
      },
      "execution_count": null,
      "outputs": []
    },
    {
      "cell_type": "code",
      "source": [
        "encoder_model.summary()"
      ],
      "metadata": {
        "colab": {
          "base_uri": "https://localhost:8080/"
        },
        "id": "njT0xqwt2dq0",
        "outputId": "70785da7-7e26-42ab-e4d0-ceea15802197"
      },
      "execution_count": null,
      "outputs": [
        {
          "output_type": "stream",
          "name": "stdout",
          "text": [
            "Model: \"model_1\"\n",
            "_________________________________________________________________\n",
            " Layer (type)                Output Shape              Param #   \n",
            "=================================================================\n",
            " input_1 (InputLayer)        [(None, None, 27)]        0         \n",
            "                                                                 \n",
            " encoder1 (LSTM)             [(None, None, 1024),      4308992   \n",
            "                              (None, 1024),                      \n",
            "                              (None, 1024)]                      \n",
            "                                                                 \n",
            " encoder2 (LSTM)             [(None, 1024),            8392704   \n",
            "                              (None, 1024),                      \n",
            "                              (None, 1024)]                      \n",
            "                                                                 \n",
            "=================================================================\n",
            "Total params: 12,701,696\n",
            "Trainable params: 12,701,696\n",
            "Non-trainable params: 0\n",
            "_________________________________________________________________\n"
          ]
        }
      ]
    },
    {
      "cell_type": "code",
      "source": [
        "decoder_model.summary()"
      ],
      "metadata": {
        "colab": {
          "base_uri": "https://localhost:8080/"
        },
        "id": "mDkVuvDF3Gym",
        "outputId": "ffcf7df4-43c0-4728-de24-bd3b2fedfc91"
      },
      "execution_count": null,
      "outputs": [
        {
          "output_type": "stream",
          "name": "stdout",
          "text": [
            "Model: \"model_2\"\n",
            "__________________________________________________________________________________________________\n",
            " Layer (type)                   Output Shape         Param #     Connected to                     \n",
            "==================================================================================================\n",
            " input_2 (InputLayer)           [(None, None, 66)]   0           []                               \n",
            "                                                                                                  \n",
            " input_3 (InputLayer)           [(None, 1024)]       0           []                               \n",
            "                                                                                                  \n",
            " input_4 (InputLayer)           [(None, 1024)]       0           []                               \n",
            "                                                                                                  \n",
            " deocder1 (LSTM)                [(None, None, 1024)  4468736     ['input_2[0][0]',                \n",
            "                                , (None, 1024),                   'input_3[0][0]',                \n",
            "                                 (None, 1024)]                    'input_4[0][0]']                \n",
            "                                                                                                  \n",
            " input_5 (InputLayer)           [(None, 1024)]       0           []                               \n",
            "                                                                                                  \n",
            " input_6 (InputLayer)           [(None, 1024)]       0           []                               \n",
            "                                                                                                  \n",
            " deocder2 (LSTM)                [(None, None, 1024)  8392704     ['deocder1[1][0]',               \n",
            "                                , (None, 1024),                   'input_5[0][0]',                \n",
            "                                 (None, 1024)]                    'input_6[0][0]']                \n",
            "                                                                                                  \n",
            " time_distributed (TimeDistribu  (None, None, 66)    67650       ['deocder2[1][0]']               \n",
            " ted)                                                                                             \n",
            "                                                                                                  \n",
            "==================================================================================================\n",
            "Total params: 12,929,090\n",
            "Trainable params: 12,929,090\n",
            "Non-trainable params: 0\n",
            "__________________________________________________________________________________________________\n"
          ]
        }
      ]
    },
    {
      "cell_type": "code",
      "metadata": {
        "id": "mhrfuI2W4WwU"
      },
      "source": [
        "def predict_word(input):\n",
        "  one_hot_input = np.zeros((1,max_encoder_sequence_length,no_of_encoder_tokens),dtype=\"float32\")\n",
        "  for i,char in enumerate(input):\n",
        "    one_hot_input[0,i,input_token_index[char]] = 1.0\n",
        "  one_hot_input[0,i+1:,input_token_index[\"\"]] = 1.0\n",
        "  word = ''\n",
        "  for c in np.argmax(one_hot_input[0,:,:], axis=1):\n",
        "    word+=reverse_input_token_index[c]\n",
        "  encoder_outputs, encoder_output_state = encoder_model.predict(one_hot_input, verbose=0)\n",
        "  # encode the input\n",
        "  start_token = np.zeros((1,1,no_of_decoder_tokens),dtype=\"float32\")\n",
        "  # create the start token for decoder\n",
        "  start_token[0,0,target_token_index['<']] = 1.0\n",
        "  decoded_word = \"\"\n",
        "  decoded_char = ''\n",
        "  decoder_states = encoder_output_state\n",
        "  decoder_input = start_token\n",
        "  count = 0\n",
        "  stop = False\n",
        "  i=0\n",
        "  while not stop:\n",
        "    # copy the encoder op state to decoder state\n",
        "    decoder_output,dh1,dc1,dh2,dc2 = decoder_model.predict(\n",
        "       [decoder_input] + decoder_states , verbose=0\n",
        "    )\n",
        "    # pass the start token and states to decoder\n",
        "    decoded_char_index = np.argmax(decoder_output[0,0,:])\n",
        "    decoded_char = reverse_output_token_index[decoded_char_index]\n",
        "    decoded_word += decoded_char\n",
        "    # deocde the char and append to the word\n",
        "    decoder_input = np.zeros((1,1,no_of_decoder_tokens),dtype=\"float32\")\n",
        "    decoder_input[0,0,target_token_index[decoded_char]] = 1.0\n",
        "    i+=1\n",
        "    # update the decoder input\n",
        "    decoder_states = [dh1,dc1,dh2,dc2]\n",
        "    count = count + 1\n",
        "    if (decoded_char == '>' ):\n",
        "      stop = True\n",
        "      decoded_word = decoded_word[:-1]\n",
        "    elif count > 20:\n",
        "      stop = True\n",
        "    # update the decoder states\n",
        "  return decoded_word\n"
      ],
      "execution_count": null,
      "outputs": []
    },
    {
      "cell_type": "code",
      "source": [
        "predict_word(\"tropical\")"
      ],
      "metadata": {
        "colab": {
          "base_uri": "https://localhost:8080/",
          "height": 37
        },
        "id": "7xfZYytYgRGZ",
        "outputId": "b1d01f4d-5210-4816-bbf2-344c0dcdf9dd"
      },
      "execution_count": null,
      "outputs": [
        {
          "output_type": "execute_result",
          "data": {
            "text/plain": [
              "'ट्रॉपिकल'"
            ],
            "application/vnd.google.colaboratory.intrinsic+json": {
              "type": "string"
            }
          },
          "metadata": {},
          "execution_count": 92
        }
      ]
    },
    {
      "cell_type": "code",
      "source": [
        "validation_hindi_eng_data = pd.read_csv('/content/drive/MyDrive/Quick Data/Dakshina Dataset/dakshina_dataset_v1.0/hi/lexicons/hi.translit.sampled.dev.tsv',names=['all'])\n"
      ],
      "metadata": {
        "id": "O0kTK9yIVMe2"
      },
      "execution_count": null,
      "outputs": []
    },
    {
      "cell_type": "code",
      "source": [
        "validation_hindi_eng_data.head()"
      ],
      "metadata": {
        "colab": {
          "base_uri": "https://localhost:8080/",
          "height": 204
        },
        "id": "H1HT1_kQVRHE",
        "outputId": "71fcec6b-f0d9-4366-9bc7-9bc8b776037e"
      },
      "execution_count": null,
      "outputs": [
        {
          "output_type": "execute_result",
          "data": {
            "text/plain": [
              "                  all\n",
              "0      अंकन\\tankan\\t3\n",
              "1   अंगकोर\\tangkor\\t3\n",
              "2   अंगिरा\\tangira\\t3\n",
              "3  अंगीठी\\tangithi\\t3\n",
              "4  अंग्रेज\\tangrej\\t3"
            ],
            "text/html": [
              "\n",
              "  <div id=\"df-ccf33270-ebf4-4448-92f9-69e8541d41a3\">\n",
              "    <div class=\"colab-df-container\">\n",
              "      <div>\n",
              "<style scoped>\n",
              "    .dataframe tbody tr th:only-of-type {\n",
              "        vertical-align: middle;\n",
              "    }\n",
              "\n",
              "    .dataframe tbody tr th {\n",
              "        vertical-align: top;\n",
              "    }\n",
              "\n",
              "    .dataframe thead th {\n",
              "        text-align: right;\n",
              "    }\n",
              "</style>\n",
              "<table border=\"1\" class=\"dataframe\">\n",
              "  <thead>\n",
              "    <tr style=\"text-align: right;\">\n",
              "      <th></th>\n",
              "      <th>all</th>\n",
              "    </tr>\n",
              "  </thead>\n",
              "  <tbody>\n",
              "    <tr>\n",
              "      <th>0</th>\n",
              "      <td>अंकन\\tankan\\t3</td>\n",
              "    </tr>\n",
              "    <tr>\n",
              "      <th>1</th>\n",
              "      <td>अंगकोर\\tangkor\\t3</td>\n",
              "    </tr>\n",
              "    <tr>\n",
              "      <th>2</th>\n",
              "      <td>अंगिरा\\tangira\\t3</td>\n",
              "    </tr>\n",
              "    <tr>\n",
              "      <th>3</th>\n",
              "      <td>अंगीठी\\tangithi\\t3</td>\n",
              "    </tr>\n",
              "    <tr>\n",
              "      <th>4</th>\n",
              "      <td>अंग्रेज\\tangrej\\t3</td>\n",
              "    </tr>\n",
              "  </tbody>\n",
              "</table>\n",
              "</div>\n",
              "      <button class=\"colab-df-convert\" onclick=\"convertToInteractive('df-ccf33270-ebf4-4448-92f9-69e8541d41a3')\"\n",
              "              title=\"Convert this dataframe to an interactive table.\"\n",
              "              style=\"display:none;\">\n",
              "        \n",
              "  <svg xmlns=\"http://www.w3.org/2000/svg\" height=\"24px\"viewBox=\"0 0 24 24\"\n",
              "       width=\"24px\">\n",
              "    <path d=\"M0 0h24v24H0V0z\" fill=\"none\"/>\n",
              "    <path d=\"M18.56 5.44l.94 2.06.94-2.06 2.06-.94-2.06-.94-.94-2.06-.94 2.06-2.06.94zm-11 1L8.5 8.5l.94-2.06 2.06-.94-2.06-.94L8.5 2.5l-.94 2.06-2.06.94zm10 10l.94 2.06.94-2.06 2.06-.94-2.06-.94-.94-2.06-.94 2.06-2.06.94z\"/><path d=\"M17.41 7.96l-1.37-1.37c-.4-.4-.92-.59-1.43-.59-.52 0-1.04.2-1.43.59L10.3 9.45l-7.72 7.72c-.78.78-.78 2.05 0 2.83L4 21.41c.39.39.9.59 1.41.59.51 0 1.02-.2 1.41-.59l7.78-7.78 2.81-2.81c.8-.78.8-2.07 0-2.86zM5.41 20L4 18.59l7.72-7.72 1.47 1.35L5.41 20z\"/>\n",
              "  </svg>\n",
              "      </button>\n",
              "      \n",
              "  <style>\n",
              "    .colab-df-container {\n",
              "      display:flex;\n",
              "      flex-wrap:wrap;\n",
              "      gap: 12px;\n",
              "    }\n",
              "\n",
              "    .colab-df-convert {\n",
              "      background-color: #E8F0FE;\n",
              "      border: none;\n",
              "      border-radius: 50%;\n",
              "      cursor: pointer;\n",
              "      display: none;\n",
              "      fill: #1967D2;\n",
              "      height: 32px;\n",
              "      padding: 0 0 0 0;\n",
              "      width: 32px;\n",
              "    }\n",
              "\n",
              "    .colab-df-convert:hover {\n",
              "      background-color: #E2EBFA;\n",
              "      box-shadow: 0px 1px 2px rgba(60, 64, 67, 0.3), 0px 1px 3px 1px rgba(60, 64, 67, 0.15);\n",
              "      fill: #174EA6;\n",
              "    }\n",
              "\n",
              "    [theme=dark] .colab-df-convert {\n",
              "      background-color: #3B4455;\n",
              "      fill: #D2E3FC;\n",
              "    }\n",
              "\n",
              "    [theme=dark] .colab-df-convert:hover {\n",
              "      background-color: #434B5C;\n",
              "      box-shadow: 0px 1px 3px 1px rgba(0, 0, 0, 0.15);\n",
              "      filter: drop-shadow(0px 1px 2px rgba(0, 0, 0, 0.3));\n",
              "      fill: #FFFFFF;\n",
              "    }\n",
              "  </style>\n",
              "\n",
              "      <script>\n",
              "        const buttonEl =\n",
              "          document.querySelector('#df-ccf33270-ebf4-4448-92f9-69e8541d41a3 button.colab-df-convert');\n",
              "        buttonEl.style.display =\n",
              "          google.colab.kernel.accessAllowed ? 'block' : 'none';\n",
              "\n",
              "        async function convertToInteractive(key) {\n",
              "          const element = document.querySelector('#df-ccf33270-ebf4-4448-92f9-69e8541d41a3');\n",
              "          const dataTable =\n",
              "            await google.colab.kernel.invokeFunction('convertToInteractive',\n",
              "                                                     [key], {});\n",
              "          if (!dataTable) return;\n",
              "\n",
              "          const docLinkHtml = 'Like what you see? Visit the ' +\n",
              "            '<a target=\"_blank\" href=https://colab.research.google.com/notebooks/data_table.ipynb>data table notebook</a>'\n",
              "            + ' to learn more about interactive tables.';\n",
              "          element.innerHTML = '';\n",
              "          dataTable['output_type'] = 'display_data';\n",
              "          await google.colab.output.renderOutput(dataTable, element);\n",
              "          const docLink = document.createElement('div');\n",
              "          docLink.innerHTML = docLinkHtml;\n",
              "          element.appendChild(docLink);\n",
              "        }\n",
              "      </script>\n",
              "    </div>\n",
              "  </div>\n",
              "  "
            ]
          },
          "metadata": {},
          "execution_count": 133
        }
      ]
    },
    {
      "cell_type": "code",
      "source": [
        "split_data = validation_hindi_eng_data[\"all\"].str.split(\"\\t\",n=2,expand=True)\n",
        "# split the eng words, hindi words and length data\n",
        "split_data"
      ],
      "metadata": {
        "colab": {
          "base_uri": "https://localhost:8080/",
          "height": 419
        },
        "id": "vd54lyElVfO4",
        "outputId": "314926ee-00ac-46b4-f331-6f8aa6df9429"
      },
      "execution_count": null,
      "outputs": [
        {
          "output_type": "execute_result",
          "data": {
            "text/plain": [
              "            0        1  2\n",
              "0        अंकन    ankan  3\n",
              "1      अंगकोर   angkor  3\n",
              "2      अंगिरा   angira  3\n",
              "3      अंगीठी  angithi  3\n",
              "4     अंग्रेज   angrej  3\n",
              "...       ...      ... ..\n",
              "4353   होल्डर   holder  3\n",
              "4354     होशो    hosho  3\n",
              "4355   ह्यूअर     huar  1\n",
              "4356   ह्यूअर    hyuar  1\n",
              "4357   ह्यूअर    hyuer  1\n",
              "\n",
              "[4358 rows x 3 columns]"
            ],
            "text/html": [
              "\n",
              "  <div id=\"df-6bf5d163-73cd-4fd5-b16c-643017a711f6\">\n",
              "    <div class=\"colab-df-container\">\n",
              "      <div>\n",
              "<style scoped>\n",
              "    .dataframe tbody tr th:only-of-type {\n",
              "        vertical-align: middle;\n",
              "    }\n",
              "\n",
              "    .dataframe tbody tr th {\n",
              "        vertical-align: top;\n",
              "    }\n",
              "\n",
              "    .dataframe thead th {\n",
              "        text-align: right;\n",
              "    }\n",
              "</style>\n",
              "<table border=\"1\" class=\"dataframe\">\n",
              "  <thead>\n",
              "    <tr style=\"text-align: right;\">\n",
              "      <th></th>\n",
              "      <th>0</th>\n",
              "      <th>1</th>\n",
              "      <th>2</th>\n",
              "    </tr>\n",
              "  </thead>\n",
              "  <tbody>\n",
              "    <tr>\n",
              "      <th>0</th>\n",
              "      <td>अंकन</td>\n",
              "      <td>ankan</td>\n",
              "      <td>3</td>\n",
              "    </tr>\n",
              "    <tr>\n",
              "      <th>1</th>\n",
              "      <td>अंगकोर</td>\n",
              "      <td>angkor</td>\n",
              "      <td>3</td>\n",
              "    </tr>\n",
              "    <tr>\n",
              "      <th>2</th>\n",
              "      <td>अंगिरा</td>\n",
              "      <td>angira</td>\n",
              "      <td>3</td>\n",
              "    </tr>\n",
              "    <tr>\n",
              "      <th>3</th>\n",
              "      <td>अंगीठी</td>\n",
              "      <td>angithi</td>\n",
              "      <td>3</td>\n",
              "    </tr>\n",
              "    <tr>\n",
              "      <th>4</th>\n",
              "      <td>अंग्रेज</td>\n",
              "      <td>angrej</td>\n",
              "      <td>3</td>\n",
              "    </tr>\n",
              "    <tr>\n",
              "      <th>...</th>\n",
              "      <td>...</td>\n",
              "      <td>...</td>\n",
              "      <td>...</td>\n",
              "    </tr>\n",
              "    <tr>\n",
              "      <th>4353</th>\n",
              "      <td>होल्डर</td>\n",
              "      <td>holder</td>\n",
              "      <td>3</td>\n",
              "    </tr>\n",
              "    <tr>\n",
              "      <th>4354</th>\n",
              "      <td>होशो</td>\n",
              "      <td>hosho</td>\n",
              "      <td>3</td>\n",
              "    </tr>\n",
              "    <tr>\n",
              "      <th>4355</th>\n",
              "      <td>ह्यूअर</td>\n",
              "      <td>huar</td>\n",
              "      <td>1</td>\n",
              "    </tr>\n",
              "    <tr>\n",
              "      <th>4356</th>\n",
              "      <td>ह्यूअर</td>\n",
              "      <td>hyuar</td>\n",
              "      <td>1</td>\n",
              "    </tr>\n",
              "    <tr>\n",
              "      <th>4357</th>\n",
              "      <td>ह्यूअर</td>\n",
              "      <td>hyuer</td>\n",
              "      <td>1</td>\n",
              "    </tr>\n",
              "  </tbody>\n",
              "</table>\n",
              "<p>4358 rows × 3 columns</p>\n",
              "</div>\n",
              "      <button class=\"colab-df-convert\" onclick=\"convertToInteractive('df-6bf5d163-73cd-4fd5-b16c-643017a711f6')\"\n",
              "              title=\"Convert this dataframe to an interactive table.\"\n",
              "              style=\"display:none;\">\n",
              "        \n",
              "  <svg xmlns=\"http://www.w3.org/2000/svg\" height=\"24px\"viewBox=\"0 0 24 24\"\n",
              "       width=\"24px\">\n",
              "    <path d=\"M0 0h24v24H0V0z\" fill=\"none\"/>\n",
              "    <path d=\"M18.56 5.44l.94 2.06.94-2.06 2.06-.94-2.06-.94-.94-2.06-.94 2.06-2.06.94zm-11 1L8.5 8.5l.94-2.06 2.06-.94-2.06-.94L8.5 2.5l-.94 2.06-2.06.94zm10 10l.94 2.06.94-2.06 2.06-.94-2.06-.94-.94-2.06-.94 2.06-2.06.94z\"/><path d=\"M17.41 7.96l-1.37-1.37c-.4-.4-.92-.59-1.43-.59-.52 0-1.04.2-1.43.59L10.3 9.45l-7.72 7.72c-.78.78-.78 2.05 0 2.83L4 21.41c.39.39.9.59 1.41.59.51 0 1.02-.2 1.41-.59l7.78-7.78 2.81-2.81c.8-.78.8-2.07 0-2.86zM5.41 20L4 18.59l7.72-7.72 1.47 1.35L5.41 20z\"/>\n",
              "  </svg>\n",
              "      </button>\n",
              "      \n",
              "  <style>\n",
              "    .colab-df-container {\n",
              "      display:flex;\n",
              "      flex-wrap:wrap;\n",
              "      gap: 12px;\n",
              "    }\n",
              "\n",
              "    .colab-df-convert {\n",
              "      background-color: #E8F0FE;\n",
              "      border: none;\n",
              "      border-radius: 50%;\n",
              "      cursor: pointer;\n",
              "      display: none;\n",
              "      fill: #1967D2;\n",
              "      height: 32px;\n",
              "      padding: 0 0 0 0;\n",
              "      width: 32px;\n",
              "    }\n",
              "\n",
              "    .colab-df-convert:hover {\n",
              "      background-color: #E2EBFA;\n",
              "      box-shadow: 0px 1px 2px rgba(60, 64, 67, 0.3), 0px 1px 3px 1px rgba(60, 64, 67, 0.15);\n",
              "      fill: #174EA6;\n",
              "    }\n",
              "\n",
              "    [theme=dark] .colab-df-convert {\n",
              "      background-color: #3B4455;\n",
              "      fill: #D2E3FC;\n",
              "    }\n",
              "\n",
              "    [theme=dark] .colab-df-convert:hover {\n",
              "      background-color: #434B5C;\n",
              "      box-shadow: 0px 1px 3px 1px rgba(0, 0, 0, 0.15);\n",
              "      filter: drop-shadow(0px 1px 2px rgba(0, 0, 0, 0.3));\n",
              "      fill: #FFFFFF;\n",
              "    }\n",
              "  </style>\n",
              "\n",
              "      <script>\n",
              "        const buttonEl =\n",
              "          document.querySelector('#df-6bf5d163-73cd-4fd5-b16c-643017a711f6 button.colab-df-convert');\n",
              "        buttonEl.style.display =\n",
              "          google.colab.kernel.accessAllowed ? 'block' : 'none';\n",
              "\n",
              "        async function convertToInteractive(key) {\n",
              "          const element = document.querySelector('#df-6bf5d163-73cd-4fd5-b16c-643017a711f6');\n",
              "          const dataTable =\n",
              "            await google.colab.kernel.invokeFunction('convertToInteractive',\n",
              "                                                     [key], {});\n",
              "          if (!dataTable) return;\n",
              "\n",
              "          const docLinkHtml = 'Like what you see? Visit the ' +\n",
              "            '<a target=\"_blank\" href=https://colab.research.google.com/notebooks/data_table.ipynb>data table notebook</a>'\n",
              "            + ' to learn more about interactive tables.';\n",
              "          element.innerHTML = '';\n",
              "          dataTable['output_type'] = 'display_data';\n",
              "          await google.colab.output.renderOutput(dataTable, element);\n",
              "          const docLink = document.createElement('div');\n",
              "          docLink.innerHTML = docLinkHtml;\n",
              "          element.appendChild(docLink);\n",
              "        }\n",
              "      </script>\n",
              "    </div>\n",
              "  </div>\n",
              "  "
            ]
          },
          "metadata": {},
          "execution_count": 134
        }
      ]
    },
    {
      "cell_type": "code",
      "source": [
        "X_valid_english = split_data[1]\n",
        "y_valid_hindi = split_data[0]\n",
        "X_valid_english, y_valid_hindi"
      ],
      "metadata": {
        "colab": {
          "base_uri": "https://localhost:8080/"
        },
        "id": "c5NsVw8hV3r_",
        "outputId": "7a156454-1666-4d4f-c343-a8319e102eff"
      },
      "execution_count": null,
      "outputs": [
        {
          "output_type": "execute_result",
          "data": {
            "text/plain": [
              "(0         ankan\n",
              " 1        angkor\n",
              " 2        angira\n",
              " 3       angithi\n",
              " 4        angrej\n",
              "          ...   \n",
              " 4353     holder\n",
              " 4354      hosho\n",
              " 4355       huar\n",
              " 4356      hyuar\n",
              " 4357      hyuer\n",
              " Name: 1, Length: 4358, dtype: object, 0          अंकन\n",
              " 1        अंगकोर\n",
              " 2        अंगिरा\n",
              " 3        अंगीठी\n",
              " 4       अंग्रेज\n",
              "          ...   \n",
              " 4353     होल्डर\n",
              " 4354       होशो\n",
              " 4355     ह्यूअर\n",
              " 4356     ह्यूअर\n",
              " 4357     ह्यूअर\n",
              " Name: 0, Length: 4358, dtype: object)"
            ]
          },
          "metadata": {},
          "execution_count": 135
        }
      ]
    },
    {
      "cell_type": "code",
      "source": [
        "from tqdm import tqdm\n",
        "\n",
        "predictions = []\n",
        "for word in tqdm(X_valid_english[:1000]):\n",
        "  predictions.append(predict_word(word))\n",
        "\n",
        "predictions"
      ],
      "metadata": {
        "id": "HEZ3HuDhWZCz"
      },
      "execution_count": null,
      "outputs": []
    },
    {
      "cell_type": "code",
      "source": [
        "pd.DataFrame({'original':y_valid_hindi[:1000], 'predictions':predictions}).to_csv('predictions.csv')"
      ],
      "metadata": {
        "id": "zuiRz362CdHr"
      },
      "execution_count": null,
      "outputs": []
    },
    {
      "cell_type": "code",
      "source": [
        "preds = pd.read_csv('/content/drive/MyDrive/Quick Data/English Hindi Transliteration/predictions.csv')\n",
        "preds = preds.drop(preds.columns[[0,1]],axis=1)\n",
        "preds.head()"
      ],
      "metadata": {
        "colab": {
          "base_uri": "https://localhost:8080/",
          "height": 204
        },
        "id": "39uPwcwkDO-S",
        "outputId": "a8a73e16-9c55-4c4f-d7bc-2b452076e068"
      },
      "execution_count": null,
      "outputs": [
        {
          "output_type": "execute_result",
          "data": {
            "text/plain": [
              "  original predictions\n",
              "0     अंकन        अंकन\n",
              "1   अंगकोर       अंगकर\n",
              "2   अंगिरा      अंगीरा\n",
              "3   अंगीठी      अंगीठी\n",
              "4  अंग्रेज      अंग्रज"
            ],
            "text/html": [
              "\n",
              "  <div id=\"df-ea07fb02-2d6b-48a8-919b-8298f4c0c706\">\n",
              "    <div class=\"colab-df-container\">\n",
              "      <div>\n",
              "<style scoped>\n",
              "    .dataframe tbody tr th:only-of-type {\n",
              "        vertical-align: middle;\n",
              "    }\n",
              "\n",
              "    .dataframe tbody tr th {\n",
              "        vertical-align: top;\n",
              "    }\n",
              "\n",
              "    .dataframe thead th {\n",
              "        text-align: right;\n",
              "    }\n",
              "</style>\n",
              "<table border=\"1\" class=\"dataframe\">\n",
              "  <thead>\n",
              "    <tr style=\"text-align: right;\">\n",
              "      <th></th>\n",
              "      <th>original</th>\n",
              "      <th>predictions</th>\n",
              "    </tr>\n",
              "  </thead>\n",
              "  <tbody>\n",
              "    <tr>\n",
              "      <th>0</th>\n",
              "      <td>अंकन</td>\n",
              "      <td>अंकन</td>\n",
              "    </tr>\n",
              "    <tr>\n",
              "      <th>1</th>\n",
              "      <td>अंगकोर</td>\n",
              "      <td>अंगकर</td>\n",
              "    </tr>\n",
              "    <tr>\n",
              "      <th>2</th>\n",
              "      <td>अंगिरा</td>\n",
              "      <td>अंगीरा</td>\n",
              "    </tr>\n",
              "    <tr>\n",
              "      <th>3</th>\n",
              "      <td>अंगीठी</td>\n",
              "      <td>अंगीठी</td>\n",
              "    </tr>\n",
              "    <tr>\n",
              "      <th>4</th>\n",
              "      <td>अंग्रेज</td>\n",
              "      <td>अंग्रज</td>\n",
              "    </tr>\n",
              "  </tbody>\n",
              "</table>\n",
              "</div>\n",
              "      <button class=\"colab-df-convert\" onclick=\"convertToInteractive('df-ea07fb02-2d6b-48a8-919b-8298f4c0c706')\"\n",
              "              title=\"Convert this dataframe to an interactive table.\"\n",
              "              style=\"display:none;\">\n",
              "        \n",
              "  <svg xmlns=\"http://www.w3.org/2000/svg\" height=\"24px\"viewBox=\"0 0 24 24\"\n",
              "       width=\"24px\">\n",
              "    <path d=\"M0 0h24v24H0V0z\" fill=\"none\"/>\n",
              "    <path d=\"M18.56 5.44l.94 2.06.94-2.06 2.06-.94-2.06-.94-.94-2.06-.94 2.06-2.06.94zm-11 1L8.5 8.5l.94-2.06 2.06-.94-2.06-.94L8.5 2.5l-.94 2.06-2.06.94zm10 10l.94 2.06.94-2.06 2.06-.94-2.06-.94-.94-2.06-.94 2.06-2.06.94z\"/><path d=\"M17.41 7.96l-1.37-1.37c-.4-.4-.92-.59-1.43-.59-.52 0-1.04.2-1.43.59L10.3 9.45l-7.72 7.72c-.78.78-.78 2.05 0 2.83L4 21.41c.39.39.9.59 1.41.59.51 0 1.02-.2 1.41-.59l7.78-7.78 2.81-2.81c.8-.78.8-2.07 0-2.86zM5.41 20L4 18.59l7.72-7.72 1.47 1.35L5.41 20z\"/>\n",
              "  </svg>\n",
              "      </button>\n",
              "      \n",
              "  <style>\n",
              "    .colab-df-container {\n",
              "      display:flex;\n",
              "      flex-wrap:wrap;\n",
              "      gap: 12px;\n",
              "    }\n",
              "\n",
              "    .colab-df-convert {\n",
              "      background-color: #E8F0FE;\n",
              "      border: none;\n",
              "      border-radius: 50%;\n",
              "      cursor: pointer;\n",
              "      display: none;\n",
              "      fill: #1967D2;\n",
              "      height: 32px;\n",
              "      padding: 0 0 0 0;\n",
              "      width: 32px;\n",
              "    }\n",
              "\n",
              "    .colab-df-convert:hover {\n",
              "      background-color: #E2EBFA;\n",
              "      box-shadow: 0px 1px 2px rgba(60, 64, 67, 0.3), 0px 1px 3px 1px rgba(60, 64, 67, 0.15);\n",
              "      fill: #174EA6;\n",
              "    }\n",
              "\n",
              "    [theme=dark] .colab-df-convert {\n",
              "      background-color: #3B4455;\n",
              "      fill: #D2E3FC;\n",
              "    }\n",
              "\n",
              "    [theme=dark] .colab-df-convert:hover {\n",
              "      background-color: #434B5C;\n",
              "      box-shadow: 0px 1px 3px 1px rgba(0, 0, 0, 0.15);\n",
              "      filter: drop-shadow(0px 1px 2px rgba(0, 0, 0, 0.3));\n",
              "      fill: #FFFFFF;\n",
              "    }\n",
              "  </style>\n",
              "\n",
              "      <script>\n",
              "        const buttonEl =\n",
              "          document.querySelector('#df-ea07fb02-2d6b-48a8-919b-8298f4c0c706 button.colab-df-convert');\n",
              "        buttonEl.style.display =\n",
              "          google.colab.kernel.accessAllowed ? 'block' : 'none';\n",
              "\n",
              "        async function convertToInteractive(key) {\n",
              "          const element = document.querySelector('#df-ea07fb02-2d6b-48a8-919b-8298f4c0c706');\n",
              "          const dataTable =\n",
              "            await google.colab.kernel.invokeFunction('convertToInteractive',\n",
              "                                                     [key], {});\n",
              "          if (!dataTable) return;\n",
              "\n",
              "          const docLinkHtml = 'Like what you see? Visit the ' +\n",
              "            '<a target=\"_blank\" href=https://colab.research.google.com/notebooks/data_table.ipynb>data table notebook</a>'\n",
              "            + ' to learn more about interactive tables.';\n",
              "          element.innerHTML = '';\n",
              "          dataTable['output_type'] = 'display_data';\n",
              "          await google.colab.output.renderOutput(dataTable, element);\n",
              "          const docLink = document.createElement('div');\n",
              "          docLink.innerHTML = docLinkHtml;\n",
              "          element.appendChild(docLink);\n",
              "        }\n",
              "      </script>\n",
              "    </div>\n",
              "  </div>\n",
              "  "
            ]
          },
          "metadata": {},
          "execution_count": 150
        }
      ]
    },
    {
      "cell_type": "code",
      "source": [
        "original = [list(word) for word in preds['original'].values]\n",
        "predictions = [list(word) for word in preds['predictions'].values]\n"
      ],
      "metadata": {
        "id": "8OkDGc0itIgn"
      },
      "execution_count": null,
      "outputs": []
    },
    {
      "cell_type": "code",
      "source": [
        "from sklearn.metrics import accuracy_score\n",
        "\n",
        "accuracies=[]\n",
        "for o,p in zip(original, predictions):\n",
        "    accuracies.append(accuracy_score(np.array(o),np.array(p)))\n",
        "\n",
        "np.mean(accuracies)"
      ],
      "metadata": {
        "colab": {
          "base_uri": "https://localhost:8080/",
          "height": 375
        },
        "id": "d9tHjp1dwadV",
        "outputId": "f97ce6d7-8e41-47af-9c9e-174a5c69e314"
      },
      "execution_count": null,
      "outputs": [
        {
          "output_type": "error",
          "ename": "ValueError",
          "evalue": "ignored",
          "traceback": [
            "\u001b[0;31m---------------------------------------------------------------------------\u001b[0m",
            "\u001b[0;31mValueError\u001b[0m                                Traceback (most recent call last)",
            "\u001b[0;32m<ipython-input-161-398a608302f7>\u001b[0m in \u001b[0;36m<module>\u001b[0;34m\u001b[0m\n\u001b[1;32m      3\u001b[0m \u001b[0maccuracies\u001b[0m\u001b[0;34m=\u001b[0m\u001b[0;34m[\u001b[0m\u001b[0;34m]\u001b[0m\u001b[0;34m\u001b[0m\u001b[0;34m\u001b[0m\u001b[0m\n\u001b[1;32m      4\u001b[0m \u001b[0;32mfor\u001b[0m \u001b[0mo\u001b[0m\u001b[0;34m,\u001b[0m\u001b[0mp\u001b[0m \u001b[0;32min\u001b[0m \u001b[0mzip\u001b[0m\u001b[0;34m(\u001b[0m\u001b[0moriginal\u001b[0m\u001b[0;34m,\u001b[0m \u001b[0mpredictions\u001b[0m\u001b[0;34m)\u001b[0m\u001b[0;34m:\u001b[0m\u001b[0;34m\u001b[0m\u001b[0;34m\u001b[0m\u001b[0m\n\u001b[0;32m----> 5\u001b[0;31m     \u001b[0maccuracies\u001b[0m\u001b[0;34m.\u001b[0m\u001b[0mappend\u001b[0m\u001b[0;34m(\u001b[0m\u001b[0maccuracy_score\u001b[0m\u001b[0;34m(\u001b[0m\u001b[0mnp\u001b[0m\u001b[0;34m.\u001b[0m\u001b[0marray\u001b[0m\u001b[0;34m(\u001b[0m\u001b[0mo\u001b[0m\u001b[0;34m)\u001b[0m\u001b[0;34m,\u001b[0m\u001b[0mnp\u001b[0m\u001b[0;34m.\u001b[0m\u001b[0marray\u001b[0m\u001b[0;34m(\u001b[0m\u001b[0mp\u001b[0m\u001b[0;34m)\u001b[0m\u001b[0;34m)\u001b[0m\u001b[0;34m)\u001b[0m\u001b[0;34m\u001b[0m\u001b[0;34m\u001b[0m\u001b[0m\n\u001b[0m\u001b[1;32m      6\u001b[0m \u001b[0;34m\u001b[0m\u001b[0m\n\u001b[1;32m      7\u001b[0m \u001b[0mnp\u001b[0m\u001b[0;34m.\u001b[0m\u001b[0mmean\u001b[0m\u001b[0;34m(\u001b[0m\u001b[0maccuracies\u001b[0m\u001b[0;34m)\u001b[0m\u001b[0;34m\u001b[0m\u001b[0;34m\u001b[0m\u001b[0m\n",
            "\u001b[0;32m/usr/local/lib/python3.8/dist-packages/sklearn/metrics/_classification.py\u001b[0m in \u001b[0;36maccuracy_score\u001b[0;34m(y_true, y_pred, normalize, sample_weight)\u001b[0m\n\u001b[1;32m    209\u001b[0m \u001b[0;34m\u001b[0m\u001b[0m\n\u001b[1;32m    210\u001b[0m     \u001b[0;31m# Compute accuracy for each possible representation\u001b[0m\u001b[0;34m\u001b[0m\u001b[0;34m\u001b[0m\u001b[0;34m\u001b[0m\u001b[0m\n\u001b[0;32m--> 211\u001b[0;31m     \u001b[0my_type\u001b[0m\u001b[0;34m,\u001b[0m \u001b[0my_true\u001b[0m\u001b[0;34m,\u001b[0m \u001b[0my_pred\u001b[0m \u001b[0;34m=\u001b[0m \u001b[0m_check_targets\u001b[0m\u001b[0;34m(\u001b[0m\u001b[0my_true\u001b[0m\u001b[0;34m,\u001b[0m \u001b[0my_pred\u001b[0m\u001b[0;34m)\u001b[0m\u001b[0;34m\u001b[0m\u001b[0;34m\u001b[0m\u001b[0m\n\u001b[0m\u001b[1;32m    212\u001b[0m     \u001b[0mcheck_consistent_length\u001b[0m\u001b[0;34m(\u001b[0m\u001b[0my_true\u001b[0m\u001b[0;34m,\u001b[0m \u001b[0my_pred\u001b[0m\u001b[0;34m,\u001b[0m \u001b[0msample_weight\u001b[0m\u001b[0;34m)\u001b[0m\u001b[0;34m\u001b[0m\u001b[0;34m\u001b[0m\u001b[0m\n\u001b[1;32m    213\u001b[0m     \u001b[0;32mif\u001b[0m \u001b[0my_type\u001b[0m\u001b[0;34m.\u001b[0m\u001b[0mstartswith\u001b[0m\u001b[0;34m(\u001b[0m\u001b[0;34m\"multilabel\"\u001b[0m\u001b[0;34m)\u001b[0m\u001b[0;34m:\u001b[0m\u001b[0;34m\u001b[0m\u001b[0;34m\u001b[0m\u001b[0m\n",
            "\u001b[0;32m/usr/local/lib/python3.8/dist-packages/sklearn/metrics/_classification.py\u001b[0m in \u001b[0;36m_check_targets\u001b[0;34m(y_true, y_pred)\u001b[0m\n\u001b[1;32m     82\u001b[0m     \u001b[0my_pred\u001b[0m \u001b[0;34m:\u001b[0m \u001b[0marray\u001b[0m \u001b[0;32mor\u001b[0m \u001b[0mindicator\u001b[0m \u001b[0mmatrix\u001b[0m\u001b[0;34m\u001b[0m\u001b[0;34m\u001b[0m\u001b[0m\n\u001b[1;32m     83\u001b[0m     \"\"\"\n\u001b[0;32m---> 84\u001b[0;31m     \u001b[0mcheck_consistent_length\u001b[0m\u001b[0;34m(\u001b[0m\u001b[0my_true\u001b[0m\u001b[0;34m,\u001b[0m \u001b[0my_pred\u001b[0m\u001b[0;34m)\u001b[0m\u001b[0;34m\u001b[0m\u001b[0;34m\u001b[0m\u001b[0m\n\u001b[0m\u001b[1;32m     85\u001b[0m     \u001b[0mtype_true\u001b[0m \u001b[0;34m=\u001b[0m \u001b[0mtype_of_target\u001b[0m\u001b[0;34m(\u001b[0m\u001b[0my_true\u001b[0m\u001b[0;34m)\u001b[0m\u001b[0;34m\u001b[0m\u001b[0;34m\u001b[0m\u001b[0m\n\u001b[1;32m     86\u001b[0m     \u001b[0mtype_pred\u001b[0m \u001b[0;34m=\u001b[0m \u001b[0mtype_of_target\u001b[0m\u001b[0;34m(\u001b[0m\u001b[0my_pred\u001b[0m\u001b[0;34m)\u001b[0m\u001b[0;34m\u001b[0m\u001b[0;34m\u001b[0m\u001b[0m\n",
            "\u001b[0;32m/usr/local/lib/python3.8/dist-packages/sklearn/utils/validation.py\u001b[0m in \u001b[0;36mcheck_consistent_length\u001b[0;34m(*arrays)\u001b[0m\n\u001b[1;32m    330\u001b[0m     \u001b[0muniques\u001b[0m \u001b[0;34m=\u001b[0m \u001b[0mnp\u001b[0m\u001b[0;34m.\u001b[0m\u001b[0munique\u001b[0m\u001b[0;34m(\u001b[0m\u001b[0mlengths\u001b[0m\u001b[0;34m)\u001b[0m\u001b[0;34m\u001b[0m\u001b[0;34m\u001b[0m\u001b[0m\n\u001b[1;32m    331\u001b[0m     \u001b[0;32mif\u001b[0m \u001b[0mlen\u001b[0m\u001b[0;34m(\u001b[0m\u001b[0muniques\u001b[0m\u001b[0;34m)\u001b[0m \u001b[0;34m>\u001b[0m \u001b[0;36m1\u001b[0m\u001b[0;34m:\u001b[0m\u001b[0;34m\u001b[0m\u001b[0;34m\u001b[0m\u001b[0m\n\u001b[0;32m--> 332\u001b[0;31m         raise ValueError(\n\u001b[0m\u001b[1;32m    333\u001b[0m             \u001b[0;34m\"Found input variables with inconsistent numbers of samples: %r\"\u001b[0m\u001b[0;34m\u001b[0m\u001b[0;34m\u001b[0m\u001b[0m\n\u001b[1;32m    334\u001b[0m             \u001b[0;34m%\u001b[0m \u001b[0;34m[\u001b[0m\u001b[0mint\u001b[0m\u001b[0;34m(\u001b[0m\u001b[0ml\u001b[0m\u001b[0;34m)\u001b[0m \u001b[0;32mfor\u001b[0m \u001b[0ml\u001b[0m \u001b[0;32min\u001b[0m \u001b[0mlengths\u001b[0m\u001b[0;34m]\u001b[0m\u001b[0;34m\u001b[0m\u001b[0;34m\u001b[0m\u001b[0m\n",
            "\u001b[0;31mValueError\u001b[0m: Found input variables with inconsistent numbers of samples: [6, 5]"
          ]
        }
      ]
    },
    {
      "cell_type": "markdown",
      "metadata": {
        "id": "eDdAYUT7pRV6"
      },
      "source": [
        "## Number Sequence Encoder Decoder\n"
      ]
    },
    {
      "cell_type": "code",
      "metadata": {
        "id": "OqxWxrzAyl8Q"
      },
      "source": [
        "# generate a sequence of random integers\n",
        "def generate_sequence(length, n_unique):\n",
        "\treturn [randint(1, n_unique-1) for _ in range(length)]"
      ],
      "execution_count": null,
      "outputs": []
    },
    {
      "cell_type": "code",
      "metadata": {
        "id": "kWlnuiTG-_vg"
      },
      "source": [
        "def predict_sequence(inferenceEncoder,inferenceDecoder,source_input,size_of_output,no_of_features):\n",
        "  # encode the source_input\n",
        "  state = inferenceEncoder.predict(source_input) # final state of encoder and initial state of decoder\n",
        "  # start of sequence input(<START> token)\n",
        "  target_seq = array([0.0 for _ in range(51)]).reshape(1, 1, 51)\n",
        "  output = list()\n",
        "  for t in range(size_of_output):\n",
        "    # pass the start of seq and  state of decoder to get deocder output and states\n",
        "    yDecoder,h,c = inferenceDecoder.predict([target_seq] + state)\n",
        "    # build the output\n",
        "    output.append(yDecoder[0,0,:])\n",
        "    # update the state with new decoder state\n",
        "    state = [h,c]\n",
        "    # update the target seq\n",
        "    target_seq = yDecoder\n",
        "  return array(output)"
      ],
      "execution_count": null,
      "outputs": []
    },
    {
      "cell_type": "code",
      "metadata": {
        "colab": {
          "base_uri": "https://localhost:8080/"
        },
        "id": "l_lapR4bMNS7",
        "outputId": "848f7ac7-f3ed-4c47-d226-eb2fea803a5a"
      },
      "source": [
        "argmax(array([0,1,0.1,0.2,0.8]))"
      ],
      "execution_count": null,
      "outputs": [
        {
          "output_type": "execute_result",
          "data": {
            "text/plain": [
              "1"
            ]
          },
          "metadata": {},
          "execution_count": 5
        }
      ]
    },
    {
      "cell_type": "code",
      "metadata": {
        "id": "WjRuGlWmN9Lq"
      },
      "source": [
        "# To decode the number series\n",
        "def one_hot_decode(encoded_seq):\n",
        "\treturn [argmax(vector) for vector in encoded_seq]\n"
      ],
      "execution_count": null,
      "outputs": []
    },
    {
      "cell_type": "code",
      "metadata": {
        "id": "8DemcWxiMOxu"
      },
      "source": [
        "# prepare data for the LSTM\n",
        "def get_dataset(n_in, n_out, cardinality, n_samples):\n",
        "\tX1, X2, y = list(), list(), list()\n",
        "\tfor _ in range(n_samples):\n",
        "\t\t# generate source sequence\n",
        "\t\tsource = generate_sequence(n_in, cardinality)\n",
        "\t\t# define padded target sequence\n",
        "\t\ttarget = source.copy()\n",
        "\t\ttarget.reverse()\n",
        "\t\t# create padded input target sequence\n",
        "\t\ttarget_in = [0] + target[:-1]\n",
        "\t\t# encode\n",
        "\t\tsrc_encoded = to_categorical([source], num_classes=cardinality).reshape(len(source),cardinality)\n",
        "\t\ttar_encoded = to_categorical([target], num_classes=cardinality).reshape(len(target),cardinality)\n",
        "\t\ttar2_encoded = to_categorical([target_in], num_classes=cardinality).reshape(len(target_in),cardinality)\n",
        "\t\t# store\n",
        "\t\tX1.append(src_encoded)\n",
        "\t\tX2.append(tar2_encoded)\n",
        "\t\ty.append(tar_encoded)\n",
        "\treturn array(X1), array(X2), array(y)"
      ],
      "execution_count": null,
      "outputs": []
    },
    {
      "cell_type": "code",
      "metadata": {
        "id": "Mjmx7nR9jPIa"
      },
      "source": [
        "# configure problem\n",
        "n_features = 50 + 1\n",
        "n_steps_in = 6\n",
        "n_steps_out = 6"
      ],
      "execution_count": null,
      "outputs": []
    },
    {
      "cell_type": "code",
      "metadata": {
        "id": "tMuuIipgje3B",
        "colab": {
          "base_uri": "https://localhost:8080/",
          "height": 204
        },
        "outputId": "b400142a-7e7d-4299-de51-ff8a941833f6"
      },
      "source": [
        "# define model\n",
        "train, infenc, infdec = define_models(n_features, n_features, 256)\n",
        "train.compile(optimizer='adam', loss='categorical_crossentropy', metrics=['accuracy'])"
      ],
      "execution_count": null,
      "outputs": [
        {
          "output_type": "error",
          "ename": "TypeError",
          "evalue": "ignored",
          "traceback": [
            "\u001b[0;31m---------------------------------------------------------------------------\u001b[0m",
            "\u001b[0;31mTypeError\u001b[0m                                 Traceback (most recent call last)",
            "\u001b[0;32m<ipython-input-11-5eb72bf760b9>\u001b[0m in \u001b[0;36m<module>\u001b[0;34m\u001b[0m\n\u001b[1;32m      1\u001b[0m \u001b[0;31m# define model\u001b[0m\u001b[0;34m\u001b[0m\u001b[0;34m\u001b[0m\u001b[0;34m\u001b[0m\u001b[0m\n\u001b[0;32m----> 2\u001b[0;31m \u001b[0mtrain\u001b[0m\u001b[0;34m,\u001b[0m \u001b[0minfenc\u001b[0m\u001b[0;34m,\u001b[0m \u001b[0minfdec\u001b[0m \u001b[0;34m=\u001b[0m \u001b[0mdefine_models\u001b[0m\u001b[0;34m(\u001b[0m\u001b[0mn_features\u001b[0m\u001b[0;34m,\u001b[0m \u001b[0mn_features\u001b[0m\u001b[0;34m,\u001b[0m \u001b[0;36m256\u001b[0m\u001b[0;34m)\u001b[0m\u001b[0;34m\u001b[0m\u001b[0;34m\u001b[0m\u001b[0m\n\u001b[0m\u001b[1;32m      3\u001b[0m \u001b[0mtrain\u001b[0m\u001b[0;34m.\u001b[0m\u001b[0mcompile\u001b[0m\u001b[0;34m(\u001b[0m\u001b[0moptimizer\u001b[0m\u001b[0;34m=\u001b[0m\u001b[0;34m'adam'\u001b[0m\u001b[0;34m,\u001b[0m \u001b[0mloss\u001b[0m\u001b[0;34m=\u001b[0m\u001b[0;34m'categorical_crossentropy'\u001b[0m\u001b[0;34m,\u001b[0m \u001b[0mmetrics\u001b[0m\u001b[0;34m=\u001b[0m\u001b[0;34m[\u001b[0m\u001b[0;34m'accuracy'\u001b[0m\u001b[0;34m]\u001b[0m\u001b[0;34m)\u001b[0m\u001b[0;34m\u001b[0m\u001b[0;34m\u001b[0m\u001b[0m\n",
            "\u001b[0;31mTypeError\u001b[0m: define_models() missing 1 required positional argument: 'no_of_layers'"
          ]
        }
      ]
    },
    {
      "cell_type": "code",
      "metadata": {
        "id": "dvUU0ntqjh83"
      },
      "source": [
        "# generate training dataset\n",
        "X1, X2, y = get_dataset(n_steps_in, n_steps_out, n_features, 100000)\n",
        "\n"
      ],
      "execution_count": null,
      "outputs": []
    },
    {
      "cell_type": "code",
      "metadata": {
        "colab": {
          "base_uri": "https://localhost:8080/"
        },
        "id": "gR16Jzbrp0sq",
        "outputId": "071a0d25-1241-4aed-d891-2ab343d517a6"
      },
      "source": [
        "source = generate_sequence(10, 51)\n",
        "to_categorical([source], num_classes=51).reshape(10,51).shape\n"
      ],
      "execution_count": null,
      "outputs": [
        {
          "output_type": "execute_result",
          "data": {
            "text/plain": [
              "(10, 51)"
            ]
          },
          "metadata": {
            "tags": []
          },
          "execution_count": 34
        }
      ]
    },
    {
      "cell_type": "code",
      "metadata": {
        "colab": {
          "base_uri": "https://localhost:8080/"
        },
        "id": "0T2u7H98mrvR",
        "outputId": "4e68d808-5fd0-41af-bb2e-b522245f7118"
      },
      "source": [
        "# train model\n",
        "train.fit([X1, X2], y, epochs=1)"
      ],
      "execution_count": null,
      "outputs": [
        {
          "output_type": "stream",
          "text": [
            "3125/3125 [==============================] - 134s 43ms/step - loss: 0.0233 - accuracy: 0.9955\n"
          ],
          "name": "stdout"
        },
        {
          "output_type": "execute_result",
          "data": {
            "text/plain": [
              "<tensorflow.python.keras.callbacks.History at 0x7f5b1aae5810>"
            ]
          },
          "metadata": {
            "tags": []
          },
          "execution_count": 36
        }
      ]
    },
    {
      "cell_type": "code",
      "metadata": {
        "colab": {
          "base_uri": "https://localhost:8080/"
        },
        "id": "yZsoTrRCklP0",
        "outputId": "72f7cc31-b534-4ffd-c6a2-32413dc67af4"
      },
      "source": [
        "total, correct = 100, 0\n",
        "for _ in range(total):\n",
        "\tX1, X2, y = get_dataset(n_steps_in, n_steps_out, 51, 1)\n",
        "\ttarget = predict_sequence(infenc, infdec, X1, n_steps_out, 51)\n",
        "\tif array_equal(one_hot_decode(y[0]), one_hot_decode(target)):\n",
        "\t\tcorrect += 1\n",
        "print('Accuracy: %.2f%%' % (float(correct)/float(total)*100.0))"
      ],
      "execution_count": null,
      "outputs": [
        {
          "output_type": "stream",
          "text": [
            "Accuracy: 97.00%\n"
          ],
          "name": "stdout"
        }
      ]
    },
    {
      "cell_type": "code",
      "metadata": {
        "id": "VkaFGEhRsXHh"
      },
      "source": [
        "# spot check some examples\n",
        "for _ in range(10):\n",
        "\tX1, X2, y = get_dataset(n_steps_in, n_steps_out, n_features, 1)\n",
        "\ttarget = predict_sequence(infenc, infdec, X1, n_steps_out, n_features)\n",
        "\tprint('X=%s y=%s, yhat=%s' % (one_hot_decode(X1[0]), one_hot_decode(y[0]), one_hot_decode(target)))"
      ],
      "execution_count": null,
      "outputs": []
    },
    {
      "cell_type": "code",
      "metadata": {
        "id": "ke7eDmsPsxBD"
      },
      "source": [],
      "execution_count": null,
      "outputs": []
    }
  ]
}